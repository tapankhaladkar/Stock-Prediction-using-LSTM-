{
  "nbformat": 4,
  "nbformat_minor": 0,
  "metadata": {
    "colab": {
      "provenance": []
    },
    "kernelspec": {
      "name": "python3",
      "display_name": "Python 3"
    },
    "language_info": {
      "name": "python"
    }
  },
  "cells": [
    {
      "cell_type": "code",
      "execution_count": 2,
      "metadata": {
        "id": "thB2FdTsH-sT"
      },
      "outputs": [],
      "source": [
        "import pandas_datareader as pdr\n",
        "import pandas as pd"
      ]
    },
    {
      "cell_type": "code",
      "source": [
        "#!pip uninstall -y numpy pandas tensorflow keras pandas_datareader\n",
        "#!pip install numpy==1.23.5 pandas==1.5.3 tensorflow==2.12.1 keras==2.12.0 pandas_datareader==0.10.0"
      ],
      "metadata": {
        "id": "hw6tdYZNglHo"
      },
      "execution_count": 3,
      "outputs": []
    },
    {
      "cell_type": "code",
      "source": [
        "#pip install --force-reinstall pandas==1.5.3 numpy==1.23.5"
      ],
      "metadata": {
        "id": "SMiEiITrbJde"
      },
      "execution_count": 4,
      "outputs": []
    },
    {
      "cell_type": "code",
      "source": [
        "#pip install --upgrade pandas_datareader"
      ],
      "metadata": {
        "id": "bgtR1GPWap-8"
      },
      "execution_count": 5,
      "outputs": []
    },
    {
      "cell_type": "code",
      "source": [
        "#pip install pandas==1.5.3"
      ],
      "metadata": {
        "id": "tg7qj5rgatk_"
      },
      "execution_count": 6,
      "outputs": []
    },
    {
      "cell_type": "code",
      "source": [
        "df = pdr.get_data_tiingo('AAPL', api_key='74991963523f55f29ef9c6f37b8d2ef924df5d19')"
      ],
      "metadata": {
        "colab": {
          "base_uri": "https://localhost:8080/"
        },
        "id": "V4bZB5X_KLGW",
        "outputId": "99a83cad-523b-4138-fb27-e400e27b98e6"
      },
      "execution_count": 7,
      "outputs": [
        {
          "output_type": "stream",
          "name": "stderr",
          "text": [
            "/tmp/ipython-input-7-2720725712.py:1: FutureWarning: In a future version of pandas all arguments of concat except for the argument 'objs' will be keyword-only.\n",
            "  df = pdr.get_data_tiingo('AAPL', api_key='74991963523f55f29ef9c6f37b8d2ef924df5d19')\n"
          ]
        }
      ]
    },
    {
      "cell_type": "code",
      "source": [
        "df.to_csv('AAPL.csv')"
      ],
      "metadata": {
        "id": "67Nf5TUFKt1V"
      },
      "execution_count": 8,
      "outputs": []
    },
    {
      "cell_type": "code",
      "source": [
        "data = pd.read_csv('AAPL.csv')"
      ],
      "metadata": {
        "id": "qyohGrONMPlQ"
      },
      "execution_count": 9,
      "outputs": []
    },
    {
      "cell_type": "code",
      "source": [
        "data.head()"
      ],
      "metadata": {
        "colab": {
          "base_uri": "https://localhost:8080/",
          "height": 206
        },
        "id": "HGgYj1ODMTrw",
        "outputId": "ce22957f-7c26-4198-a0d9-f83d1b438adb"
      },
      "execution_count": 10,
      "outputs": [
        {
          "output_type": "execute_result",
          "data": {
            "text/plain": [
              "  symbol                       date   close      high      low      open  \\\n",
              "0   AAPL  2020-07-22 00:00:00+00:00  389.09  391.9000  386.410  386.7700   \n",
              "1   AAPL  2020-07-23 00:00:00+00:00  371.38  388.3100  368.039  387.9935   \n",
              "2   AAPL  2020-07-24 00:00:00+00:00  370.46  371.8800  356.580  363.9500   \n",
              "3   AAPL  2020-07-27 00:00:00+00:00  379.24  379.6200  373.920  374.8400   \n",
              "4   AAPL  2020-07-28 00:00:00+00:00  373.01  378.1986  372.990  377.4700   \n",
              "\n",
              "     volume   adjClose    adjHigh     adjLow    adjOpen  adjVolume  divCash  \\\n",
              "0  22250413  94.561878  95.244802  93.910549  93.998041   89001652      0.0   \n",
              "1  49251108  90.257756  94.372312  89.445781  94.295392  197004432      0.0   \n",
              "2  46359716  90.034165  90.379273  86.660861  88.452018  185438864      0.0   \n",
              "3  30303548  92.167999  92.260352  90.875061  91.098652  121214192      0.0   \n",
              "4  25906375  90.653901  91.914904  90.649040  91.737830  103625500      0.0   \n",
              "\n",
              "   splitFactor  \n",
              "0          1.0  \n",
              "1          1.0  \n",
              "2          1.0  \n",
              "3          1.0  \n",
              "4          1.0  "
            ],
            "text/html": [
              "\n",
              "  <div id=\"df-0c56e127-bf80-44e6-9ce2-28d2e3d656f7\" class=\"colab-df-container\">\n",
              "    <div>\n",
              "<style scoped>\n",
              "    .dataframe tbody tr th:only-of-type {\n",
              "        vertical-align: middle;\n",
              "    }\n",
              "\n",
              "    .dataframe tbody tr th {\n",
              "        vertical-align: top;\n",
              "    }\n",
              "\n",
              "    .dataframe thead th {\n",
              "        text-align: right;\n",
              "    }\n",
              "</style>\n",
              "<table border=\"1\" class=\"dataframe\">\n",
              "  <thead>\n",
              "    <tr style=\"text-align: right;\">\n",
              "      <th></th>\n",
              "      <th>symbol</th>\n",
              "      <th>date</th>\n",
              "      <th>close</th>\n",
              "      <th>high</th>\n",
              "      <th>low</th>\n",
              "      <th>open</th>\n",
              "      <th>volume</th>\n",
              "      <th>adjClose</th>\n",
              "      <th>adjHigh</th>\n",
              "      <th>adjLow</th>\n",
              "      <th>adjOpen</th>\n",
              "      <th>adjVolume</th>\n",
              "      <th>divCash</th>\n",
              "      <th>splitFactor</th>\n",
              "    </tr>\n",
              "  </thead>\n",
              "  <tbody>\n",
              "    <tr>\n",
              "      <th>0</th>\n",
              "      <td>AAPL</td>\n",
              "      <td>2020-07-22 00:00:00+00:00</td>\n",
              "      <td>389.09</td>\n",
              "      <td>391.9000</td>\n",
              "      <td>386.410</td>\n",
              "      <td>386.7700</td>\n",
              "      <td>22250413</td>\n",
              "      <td>94.561878</td>\n",
              "      <td>95.244802</td>\n",
              "      <td>93.910549</td>\n",
              "      <td>93.998041</td>\n",
              "      <td>89001652</td>\n",
              "      <td>0.0</td>\n",
              "      <td>1.0</td>\n",
              "    </tr>\n",
              "    <tr>\n",
              "      <th>1</th>\n",
              "      <td>AAPL</td>\n",
              "      <td>2020-07-23 00:00:00+00:00</td>\n",
              "      <td>371.38</td>\n",
              "      <td>388.3100</td>\n",
              "      <td>368.039</td>\n",
              "      <td>387.9935</td>\n",
              "      <td>49251108</td>\n",
              "      <td>90.257756</td>\n",
              "      <td>94.372312</td>\n",
              "      <td>89.445781</td>\n",
              "      <td>94.295392</td>\n",
              "      <td>197004432</td>\n",
              "      <td>0.0</td>\n",
              "      <td>1.0</td>\n",
              "    </tr>\n",
              "    <tr>\n",
              "      <th>2</th>\n",
              "      <td>AAPL</td>\n",
              "      <td>2020-07-24 00:00:00+00:00</td>\n",
              "      <td>370.46</td>\n",
              "      <td>371.8800</td>\n",
              "      <td>356.580</td>\n",
              "      <td>363.9500</td>\n",
              "      <td>46359716</td>\n",
              "      <td>90.034165</td>\n",
              "      <td>90.379273</td>\n",
              "      <td>86.660861</td>\n",
              "      <td>88.452018</td>\n",
              "      <td>185438864</td>\n",
              "      <td>0.0</td>\n",
              "      <td>1.0</td>\n",
              "    </tr>\n",
              "    <tr>\n",
              "      <th>3</th>\n",
              "      <td>AAPL</td>\n",
              "      <td>2020-07-27 00:00:00+00:00</td>\n",
              "      <td>379.24</td>\n",
              "      <td>379.6200</td>\n",
              "      <td>373.920</td>\n",
              "      <td>374.8400</td>\n",
              "      <td>30303548</td>\n",
              "      <td>92.167999</td>\n",
              "      <td>92.260352</td>\n",
              "      <td>90.875061</td>\n",
              "      <td>91.098652</td>\n",
              "      <td>121214192</td>\n",
              "      <td>0.0</td>\n",
              "      <td>1.0</td>\n",
              "    </tr>\n",
              "    <tr>\n",
              "      <th>4</th>\n",
              "      <td>AAPL</td>\n",
              "      <td>2020-07-28 00:00:00+00:00</td>\n",
              "      <td>373.01</td>\n",
              "      <td>378.1986</td>\n",
              "      <td>372.990</td>\n",
              "      <td>377.4700</td>\n",
              "      <td>25906375</td>\n",
              "      <td>90.653901</td>\n",
              "      <td>91.914904</td>\n",
              "      <td>90.649040</td>\n",
              "      <td>91.737830</td>\n",
              "      <td>103625500</td>\n",
              "      <td>0.0</td>\n",
              "      <td>1.0</td>\n",
              "    </tr>\n",
              "  </tbody>\n",
              "</table>\n",
              "</div>\n",
              "    <div class=\"colab-df-buttons\">\n",
              "\n",
              "  <div class=\"colab-df-container\">\n",
              "    <button class=\"colab-df-convert\" onclick=\"convertToInteractive('df-0c56e127-bf80-44e6-9ce2-28d2e3d656f7')\"\n",
              "            title=\"Convert this dataframe to an interactive table.\"\n",
              "            style=\"display:none;\">\n",
              "\n",
              "  <svg xmlns=\"http://www.w3.org/2000/svg\" height=\"24px\" viewBox=\"0 -960 960 960\">\n",
              "    <path d=\"M120-120v-720h720v720H120Zm60-500h600v-160H180v160Zm220 220h160v-160H400v160Zm0 220h160v-160H400v160ZM180-400h160v-160H180v160Zm440 0h160v-160H620v160ZM180-180h160v-160H180v160Zm440 0h160v-160H620v160Z\"/>\n",
              "  </svg>\n",
              "    </button>\n",
              "\n",
              "  <style>\n",
              "    .colab-df-container {\n",
              "      display:flex;\n",
              "      gap: 12px;\n",
              "    }\n",
              "\n",
              "    .colab-df-convert {\n",
              "      background-color: #E8F0FE;\n",
              "      border: none;\n",
              "      border-radius: 50%;\n",
              "      cursor: pointer;\n",
              "      display: none;\n",
              "      fill: #1967D2;\n",
              "      height: 32px;\n",
              "      padding: 0 0 0 0;\n",
              "      width: 32px;\n",
              "    }\n",
              "\n",
              "    .colab-df-convert:hover {\n",
              "      background-color: #E2EBFA;\n",
              "      box-shadow: 0px 1px 2px rgba(60, 64, 67, 0.3), 0px 1px 3px 1px rgba(60, 64, 67, 0.15);\n",
              "      fill: #174EA6;\n",
              "    }\n",
              "\n",
              "    .colab-df-buttons div {\n",
              "      margin-bottom: 4px;\n",
              "    }\n",
              "\n",
              "    [theme=dark] .colab-df-convert {\n",
              "      background-color: #3B4455;\n",
              "      fill: #D2E3FC;\n",
              "    }\n",
              "\n",
              "    [theme=dark] .colab-df-convert:hover {\n",
              "      background-color: #434B5C;\n",
              "      box-shadow: 0px 1px 3px 1px rgba(0, 0, 0, 0.15);\n",
              "      filter: drop-shadow(0px 1px 2px rgba(0, 0, 0, 0.3));\n",
              "      fill: #FFFFFF;\n",
              "    }\n",
              "  </style>\n",
              "\n",
              "    <script>\n",
              "      const buttonEl =\n",
              "        document.querySelector('#df-0c56e127-bf80-44e6-9ce2-28d2e3d656f7 button.colab-df-convert');\n",
              "      buttonEl.style.display =\n",
              "        google.colab.kernel.accessAllowed ? 'block' : 'none';\n",
              "\n",
              "      async function convertToInteractive(key) {\n",
              "        const element = document.querySelector('#df-0c56e127-bf80-44e6-9ce2-28d2e3d656f7');\n",
              "        const dataTable =\n",
              "          await google.colab.kernel.invokeFunction('convertToInteractive',\n",
              "                                                    [key], {});\n",
              "        if (!dataTable) return;\n",
              "\n",
              "        const docLinkHtml = 'Like what you see? Visit the ' +\n",
              "          '<a target=\"_blank\" href=https://colab.research.google.com/notebooks/data_table.ipynb>data table notebook</a>'\n",
              "          + ' to learn more about interactive tables.';\n",
              "        element.innerHTML = '';\n",
              "        dataTable['output_type'] = 'display_data';\n",
              "        await google.colab.output.renderOutput(dataTable, element);\n",
              "        const docLink = document.createElement('div');\n",
              "        docLink.innerHTML = docLinkHtml;\n",
              "        element.appendChild(docLink);\n",
              "      }\n",
              "    </script>\n",
              "  </div>\n",
              "\n",
              "\n",
              "    <div id=\"df-d8c6048a-83f8-4e3c-a219-b371b6a2c9d1\">\n",
              "      <button class=\"colab-df-quickchart\" onclick=\"quickchart('df-d8c6048a-83f8-4e3c-a219-b371b6a2c9d1')\"\n",
              "                title=\"Suggest charts\"\n",
              "                style=\"display:none;\">\n",
              "\n",
              "<svg xmlns=\"http://www.w3.org/2000/svg\" height=\"24px\"viewBox=\"0 0 24 24\"\n",
              "     width=\"24px\">\n",
              "    <g>\n",
              "        <path d=\"M19 3H5c-1.1 0-2 .9-2 2v14c0 1.1.9 2 2 2h14c1.1 0 2-.9 2-2V5c0-1.1-.9-2-2-2zM9 17H7v-7h2v7zm4 0h-2V7h2v10zm4 0h-2v-4h2v4z\"/>\n",
              "    </g>\n",
              "</svg>\n",
              "      </button>\n",
              "\n",
              "<style>\n",
              "  .colab-df-quickchart {\n",
              "      --bg-color: #E8F0FE;\n",
              "      --fill-color: #1967D2;\n",
              "      --hover-bg-color: #E2EBFA;\n",
              "      --hover-fill-color: #174EA6;\n",
              "      --disabled-fill-color: #AAA;\n",
              "      --disabled-bg-color: #DDD;\n",
              "  }\n",
              "\n",
              "  [theme=dark] .colab-df-quickchart {\n",
              "      --bg-color: #3B4455;\n",
              "      --fill-color: #D2E3FC;\n",
              "      --hover-bg-color: #434B5C;\n",
              "      --hover-fill-color: #FFFFFF;\n",
              "      --disabled-bg-color: #3B4455;\n",
              "      --disabled-fill-color: #666;\n",
              "  }\n",
              "\n",
              "  .colab-df-quickchart {\n",
              "    background-color: var(--bg-color);\n",
              "    border: none;\n",
              "    border-radius: 50%;\n",
              "    cursor: pointer;\n",
              "    display: none;\n",
              "    fill: var(--fill-color);\n",
              "    height: 32px;\n",
              "    padding: 0;\n",
              "    width: 32px;\n",
              "  }\n",
              "\n",
              "  .colab-df-quickchart:hover {\n",
              "    background-color: var(--hover-bg-color);\n",
              "    box-shadow: 0 1px 2px rgba(60, 64, 67, 0.3), 0 1px 3px 1px rgba(60, 64, 67, 0.15);\n",
              "    fill: var(--button-hover-fill-color);\n",
              "  }\n",
              "\n",
              "  .colab-df-quickchart-complete:disabled,\n",
              "  .colab-df-quickchart-complete:disabled:hover {\n",
              "    background-color: var(--disabled-bg-color);\n",
              "    fill: var(--disabled-fill-color);\n",
              "    box-shadow: none;\n",
              "  }\n",
              "\n",
              "  .colab-df-spinner {\n",
              "    border: 2px solid var(--fill-color);\n",
              "    border-color: transparent;\n",
              "    border-bottom-color: var(--fill-color);\n",
              "    animation:\n",
              "      spin 1s steps(1) infinite;\n",
              "  }\n",
              "\n",
              "  @keyframes spin {\n",
              "    0% {\n",
              "      border-color: transparent;\n",
              "      border-bottom-color: var(--fill-color);\n",
              "      border-left-color: var(--fill-color);\n",
              "    }\n",
              "    20% {\n",
              "      border-color: transparent;\n",
              "      border-left-color: var(--fill-color);\n",
              "      border-top-color: var(--fill-color);\n",
              "    }\n",
              "    30% {\n",
              "      border-color: transparent;\n",
              "      border-left-color: var(--fill-color);\n",
              "      border-top-color: var(--fill-color);\n",
              "      border-right-color: var(--fill-color);\n",
              "    }\n",
              "    40% {\n",
              "      border-color: transparent;\n",
              "      border-right-color: var(--fill-color);\n",
              "      border-top-color: var(--fill-color);\n",
              "    }\n",
              "    60% {\n",
              "      border-color: transparent;\n",
              "      border-right-color: var(--fill-color);\n",
              "    }\n",
              "    80% {\n",
              "      border-color: transparent;\n",
              "      border-right-color: var(--fill-color);\n",
              "      border-bottom-color: var(--fill-color);\n",
              "    }\n",
              "    90% {\n",
              "      border-color: transparent;\n",
              "      border-bottom-color: var(--fill-color);\n",
              "    }\n",
              "  }\n",
              "</style>\n",
              "\n",
              "      <script>\n",
              "        async function quickchart(key) {\n",
              "          const quickchartButtonEl =\n",
              "            document.querySelector('#' + key + ' button');\n",
              "          quickchartButtonEl.disabled = true;  // To prevent multiple clicks.\n",
              "          quickchartButtonEl.classList.add('colab-df-spinner');\n",
              "          try {\n",
              "            const charts = await google.colab.kernel.invokeFunction(\n",
              "                'suggestCharts', [key], {});\n",
              "          } catch (error) {\n",
              "            console.error('Error during call to suggestCharts:', error);\n",
              "          }\n",
              "          quickchartButtonEl.classList.remove('colab-df-spinner');\n",
              "          quickchartButtonEl.classList.add('colab-df-quickchart-complete');\n",
              "        }\n",
              "        (() => {\n",
              "          let quickchartButtonEl =\n",
              "            document.querySelector('#df-d8c6048a-83f8-4e3c-a219-b371b6a2c9d1 button');\n",
              "          quickchartButtonEl.style.display =\n",
              "            google.colab.kernel.accessAllowed ? 'block' : 'none';\n",
              "        })();\n",
              "      </script>\n",
              "    </div>\n",
              "\n",
              "    </div>\n",
              "  </div>\n"
            ],
            "application/vnd.google.colaboratory.intrinsic+json": {
              "type": "dataframe",
              "variable_name": "data",
              "summary": "{\n  \"name\": \"data\",\n  \"rows\": 1254,\n  \"fields\": [\n    {\n      \"column\": \"symbol\",\n      \"properties\": {\n        \"dtype\": \"category\",\n        \"num_unique_values\": 1,\n        \"samples\": [\n          \"AAPL\"\n        ],\n        \"semantic_type\": \"\",\n        \"description\": \"\"\n      }\n    },\n    {\n      \"column\": \"date\",\n      \"properties\": {\n        \"dtype\": \"object\",\n        \"num_unique_values\": 1254,\n        \"samples\": [\n          \"2025-07-18 00:00:00+00:00\"\n        ],\n        \"semantic_type\": \"\",\n        \"description\": \"\"\n      }\n    },\n    {\n      \"column\": \"close\",\n      \"properties\": {\n        \"dtype\": \"number\",\n        \"std\": 53.54241764780128,\n        \"min\": 106.84,\n        \"max\": 506.09,\n        \"num_unique_values\": 1186,\n        \"samples\": [\n          150.96\n        ],\n        \"semantic_type\": \"\",\n        \"description\": \"\"\n      }\n    },\n    {\n      \"column\": \"high\",\n      \"properties\": {\n        \"dtype\": \"number\",\n        \"std\": 53.94626433756198,\n        \"min\": 110.19,\n        \"max\": 515.14,\n        \"num_unique_values\": 1208,\n        \"samples\": [\n          127.9\n        ],\n        \"semantic_type\": \"\",\n        \"description\": \"\"\n      }\n    },\n    {\n      \"column\": \"low\",\n      \"properties\": {\n        \"dtype\": \"number\",\n        \"std\": 52.81634931386227,\n        \"min\": 103.1,\n        \"max\": 500.33,\n        \"num_unique_values\": 1217,\n        \"samples\": [\n          138.0\n        ],\n        \"semantic_type\": \"\",\n        \"description\": \"\"\n      }\n    },\n    {\n      \"column\": \"open\",\n      \"properties\": {\n        \"dtype\": \"number\",\n        \"std\": 53.351062017034785,\n        \"min\": 104.54,\n        \"max\": 514.79,\n        \"num_unique_values\": 1196,\n        \"samples\": [\n          155.07\n        ],\n        \"semantic_type\": \"\",\n        \"description\": \"\"\n      }\n    },\n    {\n      \"column\": \"volume\",\n      \"properties\": {\n        \"dtype\": \"number\",\n        \"std\": 35766018,\n        \"min\": 22250413,\n        \"max\": 332607163,\n        \"num_unique_values\": 1254,\n        \"samples\": [\n          48974591\n        ],\n        \"semantic_type\": \"\",\n        \"description\": \"\"\n      }\n    },\n    {\n      \"column\": \"adjClose\",\n      \"properties\": {\n        \"dtype\": \"number\",\n        \"std\": 36.58888094234505,\n        \"min\": 90.0341652836,\n        \"max\": 258.4171163109,\n        \"num_unique_values\": 1239,\n        \"samples\": [\n          167.2950274082\n        ],\n        \"semantic_type\": \"\",\n        \"description\": \"\"\n      }\n    },\n    {\n      \"column\": \"adjHigh\",\n      \"properties\": {\n        \"dtype\": \"number\",\n        \"std\": 36.753084494574,\n        \"min\": 90.3792727573,\n        \"max\": 259.4946025498,\n        \"num_unique_values\": 1243,\n        \"samples\": [\n          175.8515195528\n        ],\n        \"semantic_type\": \"\",\n        \"description\": \"\"\n      }\n    },\n    {\n      \"column\": \"adjLow\",\n      \"properties\": {\n        \"dtype\": \"number\",\n        \"std\": 36.3333043916585,\n        \"min\": 86.660861245,\n        \"max\": 257.0303516144,\n        \"num_unique_values\": 1247,\n        \"samples\": [\n          158.2907528751\n        ],\n        \"semantic_type\": \"\",\n        \"description\": \"\"\n      }\n    },\n    {\n      \"column\": \"adjOpen\",\n      \"properties\": {\n        \"dtype\": \"number\",\n        \"std\": 36.50553213066531,\n        \"min\": 88.4520176401,\n        \"max\": 257.5890481828,\n        \"num_unique_values\": 1238,\n        \"samples\": [\n          128.6081768785\n        ],\n        \"semantic_type\": \"\",\n        \"description\": \"\"\n      }\n    },\n    {\n      \"column\": \"adjVolume\",\n      \"properties\": {\n        \"dtype\": \"number\",\n        \"std\": 40393967,\n        \"min\": 23234705,\n        \"max\": 374295468,\n        \"num_unique_values\": 1254,\n        \"samples\": [\n          48974591\n        ],\n        \"semantic_type\": \"\",\n        \"description\": \"\"\n      }\n    },\n    {\n      \"column\": \"divCash\",\n      \"properties\": {\n        \"dtype\": \"number\",\n        \"std\": 0.036700186635285445,\n        \"min\": 0.0,\n        \"max\": 0.82,\n        \"num_unique_values\": 8,\n        \"samples\": [\n          0.82\n        ],\n        \"semantic_type\": \"\",\n        \"description\": \"\"\n      }\n    },\n    {\n      \"column\": \"splitFactor\",\n      \"properties\": {\n        \"dtype\": \"number\",\n        \"std\": 0.0847173742087386,\n        \"min\": 1.0,\n        \"max\": 4.0,\n        \"num_unique_values\": 2,\n        \"samples\": [\n          4.0\n        ],\n        \"semantic_type\": \"\",\n        \"description\": \"\"\n      }\n    }\n  ]\n}"
            }
          },
          "metadata": {},
          "execution_count": 10
        }
      ]
    },
    {
      "cell_type": "code",
      "source": [
        "data.tail()"
      ],
      "metadata": {
        "colab": {
          "base_uri": "https://localhost:8080/",
          "height": 206
        },
        "id": "yzBouAnWMVah",
        "outputId": "5b509ae5-3e62-49d0-fd19-2306c48a4862"
      },
      "execution_count": 11,
      "outputs": [
        {
          "output_type": "execute_result",
          "data": {
            "text/plain": [
              "     symbol                       date   close    high       low     open  \\\n",
              "1249   AAPL  2025-07-14 00:00:00+00:00  208.62  210.91  207.5400  209.925   \n",
              "1250   AAPL  2025-07-15 00:00:00+00:00  209.11  211.89  208.9200  209.220   \n",
              "1251   AAPL  2025-07-16 00:00:00+00:00  210.16  212.40  208.6400  210.295   \n",
              "1252   AAPL  2025-07-17 00:00:00+00:00  210.02  211.80  209.5900  210.570   \n",
              "1253   AAPL  2025-07-18 00:00:00+00:00  211.18  211.79  209.7045  210.870   \n",
              "\n",
              "        volume  adjClose  adjHigh    adjLow  adjOpen  adjVolume  divCash  \\\n",
              "1249  38840111    208.62   210.91  207.5400  209.925   38840111      0.0   \n",
              "1250  42296339    209.11   211.89  208.9200  209.220   42296339      0.0   \n",
              "1251  47490532    210.16   212.40  208.6400  210.295   47490532      0.0   \n",
              "1252  48068141    210.02   211.80  209.5900  210.570   48068141      0.0   \n",
              "1253  48974591    211.18   211.79  209.7045  210.870   48974591      0.0   \n",
              "\n",
              "      splitFactor  \n",
              "1249          1.0  \n",
              "1250          1.0  \n",
              "1251          1.0  \n",
              "1252          1.0  \n",
              "1253          1.0  "
            ],
            "text/html": [
              "\n",
              "  <div id=\"df-179f7fff-0919-4771-9415-8e00ae19f8d7\" class=\"colab-df-container\">\n",
              "    <div>\n",
              "<style scoped>\n",
              "    .dataframe tbody tr th:only-of-type {\n",
              "        vertical-align: middle;\n",
              "    }\n",
              "\n",
              "    .dataframe tbody tr th {\n",
              "        vertical-align: top;\n",
              "    }\n",
              "\n",
              "    .dataframe thead th {\n",
              "        text-align: right;\n",
              "    }\n",
              "</style>\n",
              "<table border=\"1\" class=\"dataframe\">\n",
              "  <thead>\n",
              "    <tr style=\"text-align: right;\">\n",
              "      <th></th>\n",
              "      <th>symbol</th>\n",
              "      <th>date</th>\n",
              "      <th>close</th>\n",
              "      <th>high</th>\n",
              "      <th>low</th>\n",
              "      <th>open</th>\n",
              "      <th>volume</th>\n",
              "      <th>adjClose</th>\n",
              "      <th>adjHigh</th>\n",
              "      <th>adjLow</th>\n",
              "      <th>adjOpen</th>\n",
              "      <th>adjVolume</th>\n",
              "      <th>divCash</th>\n",
              "      <th>splitFactor</th>\n",
              "    </tr>\n",
              "  </thead>\n",
              "  <tbody>\n",
              "    <tr>\n",
              "      <th>1249</th>\n",
              "      <td>AAPL</td>\n",
              "      <td>2025-07-14 00:00:00+00:00</td>\n",
              "      <td>208.62</td>\n",
              "      <td>210.91</td>\n",
              "      <td>207.5400</td>\n",
              "      <td>209.925</td>\n",
              "      <td>38840111</td>\n",
              "      <td>208.62</td>\n",
              "      <td>210.91</td>\n",
              "      <td>207.5400</td>\n",
              "      <td>209.925</td>\n",
              "      <td>38840111</td>\n",
              "      <td>0.0</td>\n",
              "      <td>1.0</td>\n",
              "    </tr>\n",
              "    <tr>\n",
              "      <th>1250</th>\n",
              "      <td>AAPL</td>\n",
              "      <td>2025-07-15 00:00:00+00:00</td>\n",
              "      <td>209.11</td>\n",
              "      <td>211.89</td>\n",
              "      <td>208.9200</td>\n",
              "      <td>209.220</td>\n",
              "      <td>42296339</td>\n",
              "      <td>209.11</td>\n",
              "      <td>211.89</td>\n",
              "      <td>208.9200</td>\n",
              "      <td>209.220</td>\n",
              "      <td>42296339</td>\n",
              "      <td>0.0</td>\n",
              "      <td>1.0</td>\n",
              "    </tr>\n",
              "    <tr>\n",
              "      <th>1251</th>\n",
              "      <td>AAPL</td>\n",
              "      <td>2025-07-16 00:00:00+00:00</td>\n",
              "      <td>210.16</td>\n",
              "      <td>212.40</td>\n",
              "      <td>208.6400</td>\n",
              "      <td>210.295</td>\n",
              "      <td>47490532</td>\n",
              "      <td>210.16</td>\n",
              "      <td>212.40</td>\n",
              "      <td>208.6400</td>\n",
              "      <td>210.295</td>\n",
              "      <td>47490532</td>\n",
              "      <td>0.0</td>\n",
              "      <td>1.0</td>\n",
              "    </tr>\n",
              "    <tr>\n",
              "      <th>1252</th>\n",
              "      <td>AAPL</td>\n",
              "      <td>2025-07-17 00:00:00+00:00</td>\n",
              "      <td>210.02</td>\n",
              "      <td>211.80</td>\n",
              "      <td>209.5900</td>\n",
              "      <td>210.570</td>\n",
              "      <td>48068141</td>\n",
              "      <td>210.02</td>\n",
              "      <td>211.80</td>\n",
              "      <td>209.5900</td>\n",
              "      <td>210.570</td>\n",
              "      <td>48068141</td>\n",
              "      <td>0.0</td>\n",
              "      <td>1.0</td>\n",
              "    </tr>\n",
              "    <tr>\n",
              "      <th>1253</th>\n",
              "      <td>AAPL</td>\n",
              "      <td>2025-07-18 00:00:00+00:00</td>\n",
              "      <td>211.18</td>\n",
              "      <td>211.79</td>\n",
              "      <td>209.7045</td>\n",
              "      <td>210.870</td>\n",
              "      <td>48974591</td>\n",
              "      <td>211.18</td>\n",
              "      <td>211.79</td>\n",
              "      <td>209.7045</td>\n",
              "      <td>210.870</td>\n",
              "      <td>48974591</td>\n",
              "      <td>0.0</td>\n",
              "      <td>1.0</td>\n",
              "    </tr>\n",
              "  </tbody>\n",
              "</table>\n",
              "</div>\n",
              "    <div class=\"colab-df-buttons\">\n",
              "\n",
              "  <div class=\"colab-df-container\">\n",
              "    <button class=\"colab-df-convert\" onclick=\"convertToInteractive('df-179f7fff-0919-4771-9415-8e00ae19f8d7')\"\n",
              "            title=\"Convert this dataframe to an interactive table.\"\n",
              "            style=\"display:none;\">\n",
              "\n",
              "  <svg xmlns=\"http://www.w3.org/2000/svg\" height=\"24px\" viewBox=\"0 -960 960 960\">\n",
              "    <path d=\"M120-120v-720h720v720H120Zm60-500h600v-160H180v160Zm220 220h160v-160H400v160Zm0 220h160v-160H400v160ZM180-400h160v-160H180v160Zm440 0h160v-160H620v160ZM180-180h160v-160H180v160Zm440 0h160v-160H620v160Z\"/>\n",
              "  </svg>\n",
              "    </button>\n",
              "\n",
              "  <style>\n",
              "    .colab-df-container {\n",
              "      display:flex;\n",
              "      gap: 12px;\n",
              "    }\n",
              "\n",
              "    .colab-df-convert {\n",
              "      background-color: #E8F0FE;\n",
              "      border: none;\n",
              "      border-radius: 50%;\n",
              "      cursor: pointer;\n",
              "      display: none;\n",
              "      fill: #1967D2;\n",
              "      height: 32px;\n",
              "      padding: 0 0 0 0;\n",
              "      width: 32px;\n",
              "    }\n",
              "\n",
              "    .colab-df-convert:hover {\n",
              "      background-color: #E2EBFA;\n",
              "      box-shadow: 0px 1px 2px rgba(60, 64, 67, 0.3), 0px 1px 3px 1px rgba(60, 64, 67, 0.15);\n",
              "      fill: #174EA6;\n",
              "    }\n",
              "\n",
              "    .colab-df-buttons div {\n",
              "      margin-bottom: 4px;\n",
              "    }\n",
              "\n",
              "    [theme=dark] .colab-df-convert {\n",
              "      background-color: #3B4455;\n",
              "      fill: #D2E3FC;\n",
              "    }\n",
              "\n",
              "    [theme=dark] .colab-df-convert:hover {\n",
              "      background-color: #434B5C;\n",
              "      box-shadow: 0px 1px 3px 1px rgba(0, 0, 0, 0.15);\n",
              "      filter: drop-shadow(0px 1px 2px rgba(0, 0, 0, 0.3));\n",
              "      fill: #FFFFFF;\n",
              "    }\n",
              "  </style>\n",
              "\n",
              "    <script>\n",
              "      const buttonEl =\n",
              "        document.querySelector('#df-179f7fff-0919-4771-9415-8e00ae19f8d7 button.colab-df-convert');\n",
              "      buttonEl.style.display =\n",
              "        google.colab.kernel.accessAllowed ? 'block' : 'none';\n",
              "\n",
              "      async function convertToInteractive(key) {\n",
              "        const element = document.querySelector('#df-179f7fff-0919-4771-9415-8e00ae19f8d7');\n",
              "        const dataTable =\n",
              "          await google.colab.kernel.invokeFunction('convertToInteractive',\n",
              "                                                    [key], {});\n",
              "        if (!dataTable) return;\n",
              "\n",
              "        const docLinkHtml = 'Like what you see? Visit the ' +\n",
              "          '<a target=\"_blank\" href=https://colab.research.google.com/notebooks/data_table.ipynb>data table notebook</a>'\n",
              "          + ' to learn more about interactive tables.';\n",
              "        element.innerHTML = '';\n",
              "        dataTable['output_type'] = 'display_data';\n",
              "        await google.colab.output.renderOutput(dataTable, element);\n",
              "        const docLink = document.createElement('div');\n",
              "        docLink.innerHTML = docLinkHtml;\n",
              "        element.appendChild(docLink);\n",
              "      }\n",
              "    </script>\n",
              "  </div>\n",
              "\n",
              "\n",
              "    <div id=\"df-a1646bd2-c4aa-4630-bc84-2b2ec97416a6\">\n",
              "      <button class=\"colab-df-quickchart\" onclick=\"quickchart('df-a1646bd2-c4aa-4630-bc84-2b2ec97416a6')\"\n",
              "                title=\"Suggest charts\"\n",
              "                style=\"display:none;\">\n",
              "\n",
              "<svg xmlns=\"http://www.w3.org/2000/svg\" height=\"24px\"viewBox=\"0 0 24 24\"\n",
              "     width=\"24px\">\n",
              "    <g>\n",
              "        <path d=\"M19 3H5c-1.1 0-2 .9-2 2v14c0 1.1.9 2 2 2h14c1.1 0 2-.9 2-2V5c0-1.1-.9-2-2-2zM9 17H7v-7h2v7zm4 0h-2V7h2v10zm4 0h-2v-4h2v4z\"/>\n",
              "    </g>\n",
              "</svg>\n",
              "      </button>\n",
              "\n",
              "<style>\n",
              "  .colab-df-quickchart {\n",
              "      --bg-color: #E8F0FE;\n",
              "      --fill-color: #1967D2;\n",
              "      --hover-bg-color: #E2EBFA;\n",
              "      --hover-fill-color: #174EA6;\n",
              "      --disabled-fill-color: #AAA;\n",
              "      --disabled-bg-color: #DDD;\n",
              "  }\n",
              "\n",
              "  [theme=dark] .colab-df-quickchart {\n",
              "      --bg-color: #3B4455;\n",
              "      --fill-color: #D2E3FC;\n",
              "      --hover-bg-color: #434B5C;\n",
              "      --hover-fill-color: #FFFFFF;\n",
              "      --disabled-bg-color: #3B4455;\n",
              "      --disabled-fill-color: #666;\n",
              "  }\n",
              "\n",
              "  .colab-df-quickchart {\n",
              "    background-color: var(--bg-color);\n",
              "    border: none;\n",
              "    border-radius: 50%;\n",
              "    cursor: pointer;\n",
              "    display: none;\n",
              "    fill: var(--fill-color);\n",
              "    height: 32px;\n",
              "    padding: 0;\n",
              "    width: 32px;\n",
              "  }\n",
              "\n",
              "  .colab-df-quickchart:hover {\n",
              "    background-color: var(--hover-bg-color);\n",
              "    box-shadow: 0 1px 2px rgba(60, 64, 67, 0.3), 0 1px 3px 1px rgba(60, 64, 67, 0.15);\n",
              "    fill: var(--button-hover-fill-color);\n",
              "  }\n",
              "\n",
              "  .colab-df-quickchart-complete:disabled,\n",
              "  .colab-df-quickchart-complete:disabled:hover {\n",
              "    background-color: var(--disabled-bg-color);\n",
              "    fill: var(--disabled-fill-color);\n",
              "    box-shadow: none;\n",
              "  }\n",
              "\n",
              "  .colab-df-spinner {\n",
              "    border: 2px solid var(--fill-color);\n",
              "    border-color: transparent;\n",
              "    border-bottom-color: var(--fill-color);\n",
              "    animation:\n",
              "      spin 1s steps(1) infinite;\n",
              "  }\n",
              "\n",
              "  @keyframes spin {\n",
              "    0% {\n",
              "      border-color: transparent;\n",
              "      border-bottom-color: var(--fill-color);\n",
              "      border-left-color: var(--fill-color);\n",
              "    }\n",
              "    20% {\n",
              "      border-color: transparent;\n",
              "      border-left-color: var(--fill-color);\n",
              "      border-top-color: var(--fill-color);\n",
              "    }\n",
              "    30% {\n",
              "      border-color: transparent;\n",
              "      border-left-color: var(--fill-color);\n",
              "      border-top-color: var(--fill-color);\n",
              "      border-right-color: var(--fill-color);\n",
              "    }\n",
              "    40% {\n",
              "      border-color: transparent;\n",
              "      border-right-color: var(--fill-color);\n",
              "      border-top-color: var(--fill-color);\n",
              "    }\n",
              "    60% {\n",
              "      border-color: transparent;\n",
              "      border-right-color: var(--fill-color);\n",
              "    }\n",
              "    80% {\n",
              "      border-color: transparent;\n",
              "      border-right-color: var(--fill-color);\n",
              "      border-bottom-color: var(--fill-color);\n",
              "    }\n",
              "    90% {\n",
              "      border-color: transparent;\n",
              "      border-bottom-color: var(--fill-color);\n",
              "    }\n",
              "  }\n",
              "</style>\n",
              "\n",
              "      <script>\n",
              "        async function quickchart(key) {\n",
              "          const quickchartButtonEl =\n",
              "            document.querySelector('#' + key + ' button');\n",
              "          quickchartButtonEl.disabled = true;  // To prevent multiple clicks.\n",
              "          quickchartButtonEl.classList.add('colab-df-spinner');\n",
              "          try {\n",
              "            const charts = await google.colab.kernel.invokeFunction(\n",
              "                'suggestCharts', [key], {});\n",
              "          } catch (error) {\n",
              "            console.error('Error during call to suggestCharts:', error);\n",
              "          }\n",
              "          quickchartButtonEl.classList.remove('colab-df-spinner');\n",
              "          quickchartButtonEl.classList.add('colab-df-quickchart-complete');\n",
              "        }\n",
              "        (() => {\n",
              "          let quickchartButtonEl =\n",
              "            document.querySelector('#df-a1646bd2-c4aa-4630-bc84-2b2ec97416a6 button');\n",
              "          quickchartButtonEl.style.display =\n",
              "            google.colab.kernel.accessAllowed ? 'block' : 'none';\n",
              "        })();\n",
              "      </script>\n",
              "    </div>\n",
              "\n",
              "    </div>\n",
              "  </div>\n"
            ],
            "application/vnd.google.colaboratory.intrinsic+json": {
              "type": "dataframe",
              "repr_error": "0"
            }
          },
          "metadata": {},
          "execution_count": 11
        }
      ]
    },
    {
      "cell_type": "code",
      "source": [
        "data.info()"
      ],
      "metadata": {
        "colab": {
          "base_uri": "https://localhost:8080/"
        },
        "id": "bhetYKiBMg9C",
        "outputId": "7fff9295-dd82-4a54-9580-0c64824a1956"
      },
      "execution_count": 12,
      "outputs": [
        {
          "output_type": "stream",
          "name": "stdout",
          "text": [
            "<class 'pandas.core.frame.DataFrame'>\n",
            "RangeIndex: 1254 entries, 0 to 1253\n",
            "Data columns (total 14 columns):\n",
            " #   Column       Non-Null Count  Dtype  \n",
            "---  ------       --------------  -----  \n",
            " 0   symbol       1254 non-null   object \n",
            " 1   date         1254 non-null   object \n",
            " 2   close        1254 non-null   float64\n",
            " 3   high         1254 non-null   float64\n",
            " 4   low          1254 non-null   float64\n",
            " 5   open         1254 non-null   float64\n",
            " 6   volume       1254 non-null   int64  \n",
            " 7   adjClose     1254 non-null   float64\n",
            " 8   adjHigh      1254 non-null   float64\n",
            " 9   adjLow       1254 non-null   float64\n",
            " 10  adjOpen      1254 non-null   float64\n",
            " 11  adjVolume    1254 non-null   int64  \n",
            " 12  divCash      1254 non-null   float64\n",
            " 13  splitFactor  1254 non-null   float64\n",
            "dtypes: float64(10), int64(2), object(2)\n",
            "memory usage: 137.3+ KB\n"
          ]
        }
      ]
    },
    {
      "cell_type": "code",
      "source": [
        "data1 = data['close']"
      ],
      "metadata": {
        "id": "yL8CRemqM-fj"
      },
      "execution_count": 13,
      "outputs": []
    },
    {
      "cell_type": "code",
      "source": [
        "data1.shape"
      ],
      "metadata": {
        "colab": {
          "base_uri": "https://localhost:8080/"
        },
        "id": "Y7zeezTRNNgJ",
        "outputId": "3832c5b4-4348-4c94-85af-8fbaf80778eb"
      },
      "execution_count": 14,
      "outputs": [
        {
          "output_type": "execute_result",
          "data": {
            "text/plain": [
              "(1254,)"
            ]
          },
          "metadata": {},
          "execution_count": 14
        }
      ]
    },
    {
      "cell_type": "code",
      "source": [
        "data1"
      ],
      "metadata": {
        "colab": {
          "base_uri": "https://localhost:8080/",
          "height": 458
        },
        "id": "b8Ykcu27NPKW",
        "outputId": "4f1b875d-4b12-4608-e215-69c3dfba8e65"
      },
      "execution_count": 15,
      "outputs": [
        {
          "output_type": "execute_result",
          "data": {
            "text/plain": [
              "0       389.09\n",
              "1       371.38\n",
              "2       370.46\n",
              "3       379.24\n",
              "4       373.01\n",
              "         ...  \n",
              "1249    208.62\n",
              "1250    209.11\n",
              "1251    210.16\n",
              "1252    210.02\n",
              "1253    211.18\n",
              "Name: close, Length: 1254, dtype: float64"
            ],
            "text/html": [
              "<div>\n",
              "<style scoped>\n",
              "    .dataframe tbody tr th:only-of-type {\n",
              "        vertical-align: middle;\n",
              "    }\n",
              "\n",
              "    .dataframe tbody tr th {\n",
              "        vertical-align: top;\n",
              "    }\n",
              "\n",
              "    .dataframe thead th {\n",
              "        text-align: right;\n",
              "    }\n",
              "</style>\n",
              "<table border=\"1\" class=\"dataframe\">\n",
              "  <thead>\n",
              "    <tr style=\"text-align: right;\">\n",
              "      <th></th>\n",
              "      <th>close</th>\n",
              "    </tr>\n",
              "  </thead>\n",
              "  <tbody>\n",
              "    <tr>\n",
              "      <th>0</th>\n",
              "      <td>389.09</td>\n",
              "    </tr>\n",
              "    <tr>\n",
              "      <th>1</th>\n",
              "      <td>371.38</td>\n",
              "    </tr>\n",
              "    <tr>\n",
              "      <th>2</th>\n",
              "      <td>370.46</td>\n",
              "    </tr>\n",
              "    <tr>\n",
              "      <th>3</th>\n",
              "      <td>379.24</td>\n",
              "    </tr>\n",
              "    <tr>\n",
              "      <th>4</th>\n",
              "      <td>373.01</td>\n",
              "    </tr>\n",
              "    <tr>\n",
              "      <th>...</th>\n",
              "      <td>...</td>\n",
              "    </tr>\n",
              "    <tr>\n",
              "      <th>1249</th>\n",
              "      <td>208.62</td>\n",
              "    </tr>\n",
              "    <tr>\n",
              "      <th>1250</th>\n",
              "      <td>209.11</td>\n",
              "    </tr>\n",
              "    <tr>\n",
              "      <th>1251</th>\n",
              "      <td>210.16</td>\n",
              "    </tr>\n",
              "    <tr>\n",
              "      <th>1252</th>\n",
              "      <td>210.02</td>\n",
              "    </tr>\n",
              "    <tr>\n",
              "      <th>1253</th>\n",
              "      <td>211.18</td>\n",
              "    </tr>\n",
              "  </tbody>\n",
              "</table>\n",
              "<p>1254 rows × 1 columns</p>\n",
              "</div><br><label><b>dtype:</b> float64</label>"
            ]
          },
          "metadata": {},
          "execution_count": 15
        }
      ]
    },
    {
      "cell_type": "code",
      "source": [
        "import matplotlib.pyplot as plt\n",
        "plt.plot(data1)\n"
      ],
      "metadata": {
        "colab": {
          "base_uri": "https://localhost:8080/",
          "height": 448
        },
        "id": "WZQRdeOiOdxU",
        "outputId": "5d665638-d8c3-4479-91c0-0caeda001468"
      },
      "execution_count": 16,
      "outputs": [
        {
          "output_type": "execute_result",
          "data": {
            "text/plain": [
              "[<matplotlib.lines.Line2D at 0x7c3832cfa490>]"
            ]
          },
          "metadata": {},
          "execution_count": 16
        },
        {
          "output_type": "display_data",
          "data": {
            "text/plain": [
              "<Figure size 640x480 with 1 Axes>"
            ],
            "image/png": "[encoded data removed]"
          },
          "metadata": {}
        }
      ]
    },
    {
      "cell_type": "code",
      "source": [
        " import numpy as np"
      ],
      "metadata": {
        "id": "nmF3qIAxOmXN"
      },
      "execution_count": 17,
      "outputs": []
    },
    {
      "cell_type": "code",
      "source": [
        "from sklearn.preprocessing import MinMaxScaler\n",
        "scaler = MinMaxScaler(feature_range=(0,1))\n",
        "data_scaled = scaler.fit_transform(np.array(data1).reshape(-1,1))"
      ],
      "metadata": {
        "id": "uPdWBqTtZoMe"
      },
      "execution_count": 18,
      "outputs": []
    },
    {
      "cell_type": "code",
      "metadata": {
        "colab": {
          "base_uri": "https://localhost:8080/"
        },
        "id": "12b2c180",
        "outputId": "3c7add6f-631d-4428-810b-d784f0fe4a91"
      },
      "source": [
        "print(data_scaled.shape)"
      ],
      "execution_count": 19,
      "outputs": [
        {
          "output_type": "stream",
          "name": "stdout",
          "text": [
            "(1254, 1)\n"
          ]
        }
      ]
    },
    {
      "cell_type": "code",
      "source": [
        "data_scaled"
      ],
      "metadata": {
        "colab": {
          "base_uri": "https://localhost:8080/"
        },
        "id": "R8QHctsRbDon",
        "outputId": "74e9b93e-8711-4f43-b662-b4559fad930b"
      },
      "execution_count": 20,
      "outputs": [
        {
          "output_type": "execute_result",
          "data": {
            "text/plain": [
              "array([[0.70695053],\n",
              "       [0.66259236],\n",
              "       [0.66028804],\n",
              "       ...,\n",
              "       [0.25878522],\n",
              "       [0.25843456],\n",
              "       [0.26134001]])"
            ]
          },
          "metadata": {},
          "execution_count": 20
        }
      ]
    },
    {
      "cell_type": "code",
      "source": [
        "training_size = int(len(data_scaled)*0.65)\n",
        "test_size = len(data_scaled) - training_size\n",
        "train_data, test_data = data_scaled[0:training_size,:], data_scaled[training_size:len(data_scaled),:1]"
      ],
      "metadata": {
        "id": "AMjhwFWEbHes"
      },
      "execution_count": 21,
      "outputs": []
    },
    {
      "cell_type": "code",
      "source": [
        "training_size, test_size"
      ],
      "metadata": {
        "colab": {
          "base_uri": "https://localhost:8080/"
        },
        "id": "fIEERlcgcvKy",
        "outputId": "c0087599-6292-4c79-98b2-1a69a3b23e7b"
      },
      "execution_count": 22,
      "outputs": [
        {
          "output_type": "execute_result",
          "data": {
            "text/plain": [
              "(815, 439)"
            ]
          },
          "metadata": {},
          "execution_count": 22
        }
      ]
    },
    {
      "cell_type": "code",
      "source": [
        "len(train_data), len(test_data)"
      ],
      "metadata": {
        "colab": {
          "base_uri": "https://localhost:8080/"
        },
        "id": "DZ1Qki5Zcv3-",
        "outputId": "41aa1841-9444-4d6b-b8fc-f1006d575321"
      },
      "execution_count": 23,
      "outputs": [
        {
          "output_type": "execute_result",
          "data": {
            "text/plain": [
              "(815, 439)"
            ]
          },
          "metadata": {},
          "execution_count": 23
        }
      ]
    },
    {
      "cell_type": "code",
      "source": [
        "def creae_dataset(dataset, time_step=1):\n",
        "    dataX, dataY = [], []\n",
        "    for i in range(len(dataset)-time_step-1):\n",
        "        a = dataset[i:(i+time_step), 0]\n",
        "        dataX.append(a)\n",
        "        dataY.append(dataset[i+time_step, 0])\n",
        "    return np.array(dataX), np.array(dataY)"
      ],
      "metadata": {
        "id": "o9KfeGzucyD8"
      },
      "execution_count": 24,
      "outputs": []
    },
    {
      "cell_type": "code",
      "source": [
        "from datetime import time\n",
        "time_step = 100           # X = t, t+1, t+2, t+3    AND y = t+4\n",
        "X_train, y_train = creae_dataset(train_data, time_step)\n",
        "X_test, y_test = creae_dataset(test_data, time_step)"
      ],
      "metadata": {
        "id": "FFQYQ7Ntg8K6"
      },
      "execution_count": 25,
      "outputs": []
    },
    {
      "cell_type": "code",
      "source": [
        "print(X_train.shape), print(y_train.shape)"
      ],
      "metadata": {
        "colab": {
          "base_uri": "https://localhost:8080/"
        },
        "id": "uNHZwFOUhDuC",
        "outputId": "3ea7fced-1823-4bee-fa3f-7d772890458a"
      },
      "execution_count": 26,
      "outputs": [
        {
          "output_type": "stream",
          "name": "stdout",
          "text": [
            "(714, 100)\n",
            "(714,)\n"
          ]
        },
        {
          "output_type": "execute_result",
          "data": {
            "text/plain": [
              "(None, None)"
            ]
          },
          "metadata": {},
          "execution_count": 26
        }
      ]
    },
    {
      "cell_type": "code",
      "source": [
        "print(X_test.shape), print(y_test.shape)"
      ],
      "metadata": {
        "colab": {
          "base_uri": "https://localhost:8080/"
        },
        "id": "8RqSHLfJhFfo",
        "outputId": "dc2009f0-a9dd-4832-fbfe-a67797cd83dd"
      },
      "execution_count": 27,
      "outputs": [
        {
          "output_type": "stream",
          "name": "stdout",
          "text": [
            "(338, 100)\n",
            "(338,)\n"
          ]
        },
        {
          "output_type": "execute_result",
          "data": {
            "text/plain": [
              "(None, None)"
            ]
          },
          "metadata": {},
          "execution_count": 27
        }
      ]
    },
    {
      "cell_type": "code",
      "source": [
        "X_train"
      ],
      "metadata": {
        "id": "ZwvX-JeahIue",
        "colab": {
          "base_uri": "https://localhost:8080/"
        },
        "outputId": "59c3d9e1-5839-4c4d-d5ab-ce1ab31a5ba3"
      },
      "execution_count": 28,
      "outputs": [
        {
          "output_type": "execute_result",
          "data": {
            "text/plain": [
              "array([[0.70695053, 0.66259236, 0.66028804, ..., 0.04393237, 0.03742016,\n",
              "        0.04107702],\n",
              "       [0.66259236, 0.66028804, 0.68227927, ..., 0.03742016, 0.04107702,\n",
              "        0.03899812],\n",
              "       [0.66028804, 0.68227927, 0.66667502, ..., 0.04107702, 0.03899812,\n",
              "        0.03742016],\n",
              "       ...,\n",
              "       [0.17084534, 0.17112085, 0.16871634, ..., 0.17695679, 0.18071384,\n",
              "        0.17921102],\n",
              "       [0.17112085, 0.16871634, 0.16210394, ..., 0.18071384, 0.17921102,\n",
              "        0.18274264],\n",
              "       [0.16871634, 0.16210394, 0.16280526, ..., 0.17921102, 0.18274264,\n",
              "        0.18502192]])"
            ]
          },
          "metadata": {},
          "execution_count": 28
        }
      ]
    },
    {
      "cell_type": "code",
      "source": [
        "X_train = X_train.reshape(X_train.shape[0], X_train.shape[1], 1)\n",
        "X_test = X_test.reshape(X_test.shape[0], X_test.shape[1], 1)"
      ],
      "metadata": {
        "id": "oiO0XtZadbPw"
      },
      "execution_count": 29,
      "outputs": []
    },
    {
      "cell_type": "code",
      "source": [
        "## Creating stacked LSTM Model\n",
        "\n",
        "from tensorflow.keras.models import Sequential\n",
        "from tensorflow.keras.layers import Dense\n",
        "from tensorflow.keras.layers import LSTM"
      ],
      "metadata": {
        "id": "aALJCq4ieNVS"
      },
      "execution_count": 30,
      "outputs": []
    },
    {
      "cell_type": "code",
      "source": [
        "model = Sequential()\n",
        "model.add(LSTM(50, return_sequences=True, input_shape=(100,1)))\n",
        "model.add(LSTM(50, return_sequences=True))\n",
        "model.add(LSTM(50))\n",
        "model.add(Dense(1))\n",
        "model.compile(loss='mean_squared_error', optimizer='adam')"
      ],
      "metadata": {
        "id": "RKpPorf1etqa"
      },
      "execution_count": 32,
      "outputs": []
    },
    {
      "cell_type": "code",
      "source": [
        "model.summary()"
      ],
      "metadata": {
        "colab": {
          "base_uri": "https://localhost:8080/"
        },
        "id": "MDdev_k5hYW5",
        "outputId": "0b62f50d-a06b-49e2-b26c-9f72419d6b56"
      },
      "execution_count": 33,
      "outputs": [
        {
          "output_type": "stream",
          "name": "stdout",
          "text": [
            "Model: \"sequential\"\n",
            "_________________________________________________________________\n",
            " Layer (type)                Output Shape              Param #   \n",
            "=================================================================\n",
            " lstm (LSTM)                 (None, 100, 50)           10400     \n",
            "                                                                 \n",
            " lstm_1 (LSTM)               (None, 100, 50)           20200     \n",
            "                                                                 \n",
            " lstm_2 (LSTM)               (None, 50)                20200     \n",
            "                                                                 \n",
            " dense (Dense)               (None, 1)                 51        \n",
            "                                                                 \n",
            "=================================================================\n",
            "Total params: 50,851\n",
            "Trainable params: 50,851\n",
            "Non-trainable params: 0\n",
            "_________________________________________________________________\n"
          ]
        }
      ]
    },
    {
      "cell_type": "code",
      "source": [
        "model.fit(X_train, y_train, validation_data=(X_test, y_test), epochs=100, batch_size=64, verbose=1)"
      ],
      "metadata": {
        "colab": {
          "base_uri": "https://localhost:8080/"
        },
        "id": "0UTYKDsohtPR",
        "outputId": "ada66ef8-9410-489d-8f19-fdd1ff24965e"
      },
      "execution_count": 34,
      "outputs": [
        {
          "output_type": "stream",
          "name": "stdout",
          "text": [
            "Epoch 1/100\n",
            "12/12 [==============================] - 13s 355ms/step - loss: 0.0030 - val_loss: 0.0150\n",
            "Epoch 2/100\n",
            "12/12 [==============================] - 2s 208ms/step - loss: 9.7967e-04 - val_loss: 0.0046\n",
            "Epoch 3/100\n",
            "12/12 [==============================] - 2s 207ms/step - loss: 5.9088e-04 - val_loss: 0.0012\n",
            "Epoch 4/100\n",
            "12/12 [==============================] - 3s 270ms/step - loss: 3.7009e-04 - val_loss: 6.8080e-04\n",
            "Epoch 5/100\n",
            "12/12 [==============================] - 3s 220ms/step - loss: 3.4309e-04 - val_loss: 6.6498e-04\n",
            "Epoch 6/100\n",
            "12/12 [==============================] - 2s 204ms/step - loss: 3.1770e-04 - val_loss: 8.5739e-04\n",
            "Epoch 7/100\n",
            "12/12 [==============================] - 2s 203ms/step - loss: 3.0763e-04 - val_loss: 6.8578e-04\n",
            "Epoch 8/100\n",
            "12/12 [==============================] - 3s 224ms/step - loss: 2.8995e-04 - val_loss: 7.9842e-04\n",
            "Epoch 9/100\n",
            "12/12 [==============================] - 4s 303ms/step - loss: 2.9413e-04 - val_loss: 5.8633e-04\n",
            "Epoch 10/100\n",
            "12/12 [==============================] - 2s 206ms/step - loss: 2.6723e-04 - val_loss: 6.3239e-04\n",
            "Epoch 11/100\n",
            "12/12 [==============================] - 3s 239ms/step - loss: 2.5913e-04 - val_loss: 6.2238e-04\n",
            "Epoch 12/100\n",
            "12/12 [==============================] - 3s 205ms/step - loss: 2.4102e-04 - val_loss: 5.0729e-04\n",
            "Epoch 13/100\n",
            "12/12 [==============================] - 3s 240ms/step - loss: 2.3490e-04 - val_loss: 5.2522e-04\n",
            "Epoch 14/100\n",
            "12/12 [==============================] - 3s 260ms/step - loss: 2.2734e-04 - val_loss: 5.8352e-04\n",
            "Epoch 15/100\n",
            "12/12 [==============================] - 2s 202ms/step - loss: 2.2947e-04 - val_loss: 4.7649e-04\n",
            "Epoch 16/100\n",
            "12/12 [==============================] - 2s 203ms/step - loss: 2.4651e-04 - val_loss: 7.4555e-04\n",
            "Epoch 17/100\n",
            "12/12 [==============================] - 2s 205ms/step - loss: 2.4452e-04 - val_loss: 4.5388e-04\n",
            "Epoch 18/100\n",
            "12/12 [==============================] - 3s 287ms/step - loss: 2.2633e-04 - val_loss: 7.6292e-04\n",
            "Epoch 19/100\n",
            "12/12 [==============================] - 3s 222ms/step - loss: 2.2736e-04 - val_loss: 4.2781e-04\n",
            "Epoch 20/100\n",
            "12/12 [==============================] - 2s 203ms/step - loss: 2.1378e-04 - val_loss: 6.9596e-04\n",
            "Epoch 21/100\n",
            "12/12 [==============================] - 2s 205ms/step - loss: 1.9674e-04 - val_loss: 7.8591e-04\n",
            "Epoch 22/100\n",
            "12/12 [==============================] - 2s 201ms/step - loss: 1.9750e-04 - val_loss: 4.1604e-04\n",
            "Epoch 23/100\n",
            "12/12 [==============================] - 3s 300ms/step - loss: 1.9505e-04 - val_loss: 6.5421e-04\n",
            "Epoch 24/100\n",
            "12/12 [==============================] - 3s 243ms/step - loss: 1.9039e-04 - val_loss: 4.0617e-04\n",
            "Epoch 25/100\n",
            "12/12 [==============================] - 2s 201ms/step - loss: 1.8365e-04 - val_loss: 5.8109e-04\n",
            "Epoch 26/100\n",
            "12/12 [==============================] - 2s 203ms/step - loss: 1.7972e-04 - val_loss: 5.9553e-04\n",
            "Epoch 27/100\n",
            "12/12 [==============================] - 3s 212ms/step - loss: 1.8143e-04 - val_loss: 3.9428e-04\n",
            "Epoch 28/100\n",
            "12/12 [==============================] - 3s 283ms/step - loss: 1.8578e-04 - val_loss: 3.9776e-04\n",
            "Epoch 29/100\n",
            "12/12 [==============================] - 2s 203ms/step - loss: 1.8859e-04 - val_loss: 5.9205e-04\n",
            "Epoch 30/100\n",
            "12/12 [==============================] - 2s 205ms/step - loss: 1.6350e-04 - val_loss: 4.5261e-04\n",
            "Epoch 31/100\n",
            "12/12 [==============================] - 3s 214ms/step - loss: 1.9239e-04 - val_loss: 5.5188e-04\n",
            "Epoch 32/100\n",
            "12/12 [==============================] - 3s 267ms/step - loss: 1.7665e-04 - val_loss: 4.2920e-04\n",
            "Epoch 33/100\n",
            "12/12 [==============================] - 3s 232ms/step - loss: 1.6812e-04 - val_loss: 5.0861e-04\n",
            "Epoch 34/100\n",
            "12/12 [==============================] - 2s 204ms/step - loss: 1.5587e-04 - val_loss: 4.1727e-04\n",
            "Epoch 35/100\n",
            "12/12 [==============================] - 2s 205ms/step - loss: 1.5592e-04 - val_loss: 3.7119e-04\n",
            "Epoch 36/100\n",
            "12/12 [==============================] - 2s 209ms/step - loss: 1.5019e-04 - val_loss: 3.8891e-04\n",
            "Epoch 37/100\n",
            "12/12 [==============================] - 3s 291ms/step - loss: 1.5996e-04 - val_loss: 3.5100e-04\n",
            "Epoch 38/100\n",
            "12/12 [==============================] - 2s 203ms/step - loss: 1.5956e-04 - val_loss: 3.4700e-04\n",
            "Epoch 39/100\n",
            "12/12 [==============================] - 2s 202ms/step - loss: 1.7821e-04 - val_loss: 3.9979e-04\n",
            "Epoch 40/100\n",
            "12/12 [==============================] - 2s 205ms/step - loss: 1.4498e-04 - val_loss: 3.4669e-04\n",
            "Epoch 41/100\n",
            "12/12 [==============================] - 2s 206ms/step - loss: 1.6093e-04 - val_loss: 9.1395e-04\n",
            "Epoch 42/100\n",
            "12/12 [==============================] - 4s 302ms/step - loss: 1.7147e-04 - val_loss: 3.6628e-04\n",
            "Epoch 43/100\n",
            "12/12 [==============================] - 3s 216ms/step - loss: 1.6463e-04 - val_loss: 4.3586e-04\n",
            "Epoch 44/100\n",
            "12/12 [==============================] - 3s 237ms/step - loss: 1.3930e-04 - val_loss: 3.8283e-04\n",
            "Epoch 45/100\n",
            "12/12 [==============================] - 2s 208ms/step - loss: 1.5783e-04 - val_loss: 5.5662e-04\n",
            "Epoch 46/100\n",
            "12/12 [==============================] - 3s 240ms/step - loss: 1.3778e-04 - val_loss: 3.8475e-04\n",
            "Epoch 47/100\n",
            "12/12 [==============================] - 3s 260ms/step - loss: 1.4065e-04 - val_loss: 3.1401e-04\n",
            "Epoch 48/100\n",
            "12/12 [==============================] - 2s 210ms/step - loss: 1.3580e-04 - val_loss: 4.4648e-04\n",
            "Epoch 49/100\n",
            "12/12 [==============================] - 3s 214ms/step - loss: 1.3482e-04 - val_loss: 3.1601e-04\n",
            "Epoch 50/100\n",
            "12/12 [==============================] - 2s 207ms/step - loss: 1.2922e-04 - val_loss: 3.1845e-04\n",
            "Epoch 51/100\n",
            "12/12 [==============================] - 3s 282ms/step - loss: 1.3000e-04 - val_loss: 4.5108e-04\n",
            "Epoch 52/100\n",
            "12/12 [==============================] - 3s 220ms/step - loss: 1.3586e-04 - val_loss: 3.0494e-04\n",
            "Epoch 53/100\n",
            "12/12 [==============================] - 3s 216ms/step - loss: 1.2129e-04 - val_loss: 3.7348e-04\n",
            "Epoch 54/100\n",
            "12/12 [==============================] - 2s 211ms/step - loss: 1.2071e-04 - val_loss: 3.3441e-04\n",
            "Epoch 55/100\n",
            "12/12 [==============================] - 3s 212ms/step - loss: 1.2025e-04 - val_loss: 2.8498e-04\n",
            "Epoch 56/100\n",
            "12/12 [==============================] - 4s 306ms/step - loss: 1.2578e-04 - val_loss: 3.5058e-04\n",
            "Epoch 57/100\n",
            "12/12 [==============================] - 2s 204ms/step - loss: 1.1454e-04 - val_loss: 2.9256e-04\n",
            "Epoch 58/100\n",
            "12/12 [==============================] - 2s 208ms/step - loss: 1.2607e-04 - val_loss: 3.1339e-04\n",
            "Epoch 59/100\n",
            "12/12 [==============================] - 2s 211ms/step - loss: 1.4499e-04 - val_loss: 2.8727e-04\n",
            "Epoch 60/100\n",
            "12/12 [==============================] - 3s 231ms/step - loss: 1.1537e-04 - val_loss: 2.6371e-04\n",
            "Epoch 61/100\n",
            "12/12 [==============================] - 3s 272ms/step - loss: 1.1188e-04 - val_loss: 2.6019e-04\n",
            "Epoch 62/100\n",
            "12/12 [==============================] - 3s 217ms/step - loss: 1.1479e-04 - val_loss: 3.5002e-04\n",
            "Epoch 63/100\n",
            "12/12 [==============================] - 2s 206ms/step - loss: 1.1534e-04 - val_loss: 2.5213e-04\n",
            "Epoch 64/100\n",
            "12/12 [==============================] - 3s 233ms/step - loss: 1.0932e-04 - val_loss: 2.6846e-04\n",
            "Epoch 65/100\n",
            "12/12 [==============================] - 3s 287ms/step - loss: 1.0529e-04 - val_loss: 2.5445e-04\n",
            "Epoch 66/100\n",
            "12/12 [==============================] - 3s 210ms/step - loss: 1.2672e-04 - val_loss: 6.4770e-04\n",
            "Epoch 67/100\n",
            "12/12 [==============================] - 2s 210ms/step - loss: 1.3837e-04 - val_loss: 2.4514e-04\n",
            "Epoch 68/100\n",
            "12/12 [==============================] - 2s 208ms/step - loss: 1.1261e-04 - val_loss: 2.5303e-04\n",
            "Epoch 69/100\n",
            "12/12 [==============================] - 2s 206ms/step - loss: 1.0272e-04 - val_loss: 2.9144e-04\n",
            "Epoch 70/100\n",
            "12/12 [==============================] - 4s 305ms/step - loss: 1.0150e-04 - val_loss: 2.3548e-04\n",
            "Epoch 71/100\n",
            "12/12 [==============================] - 2s 206ms/step - loss: 1.0660e-04 - val_loss: 6.6524e-04\n",
            "Epoch 72/100\n",
            "12/12 [==============================] - 2s 205ms/step - loss: 1.1728e-04 - val_loss: 2.4439e-04\n",
            "Epoch 73/100\n",
            "12/12 [==============================] - 2s 205ms/step - loss: 1.2233e-04 - val_loss: 3.2522e-04\n",
            "Epoch 74/100\n",
            "12/12 [==============================] - 3s 213ms/step - loss: 9.5021e-05 - val_loss: 2.2970e-04\n",
            "Epoch 75/100\n",
            "12/12 [==============================] - 3s 280ms/step - loss: 9.7977e-05 - val_loss: 3.7988e-04\n",
            "Epoch 76/100\n",
            "12/12 [==============================] - 2s 205ms/step - loss: 1.0021e-04 - val_loss: 2.4193e-04\n",
            "Epoch 77/100\n",
            "12/12 [==============================] - 2s 206ms/step - loss: 9.7434e-05 - val_loss: 2.4902e-04\n",
            "Epoch 78/100\n",
            "12/12 [==============================] - 2s 205ms/step - loss: 9.6399e-05 - val_loss: 2.2064e-04\n",
            "Epoch 79/100\n",
            "12/12 [==============================] - 3s 251ms/step - loss: 9.3758e-05 - val_loss: 3.6936e-04\n",
            "Epoch 80/100\n",
            "12/12 [==============================] - 3s 244ms/step - loss: 1.0941e-04 - val_loss: 2.0046e-04\n",
            "Epoch 81/100\n",
            "12/12 [==============================] - 3s 235ms/step - loss: 1.0460e-04 - val_loss: 3.3648e-04\n",
            "Epoch 82/100\n",
            "12/12 [==============================] - 2s 209ms/step - loss: 1.0403e-04 - val_loss: 2.2396e-04\n",
            "Epoch 83/100\n",
            "12/12 [==============================] - 2s 204ms/step - loss: 9.3140e-05 - val_loss: 2.6698e-04\n",
            "Epoch 84/100\n",
            "12/12 [==============================] - 4s 311ms/step - loss: 8.8225e-05 - val_loss: 2.0769e-04\n",
            "Epoch 85/100\n",
            "12/12 [==============================] - 2s 203ms/step - loss: 9.8742e-05 - val_loss: 2.9150e-04\n",
            "Epoch 86/100\n",
            "12/12 [==============================] - 3s 230ms/step - loss: 9.1709e-05 - val_loss: 2.0797e-04\n",
            "Epoch 87/100\n",
            "12/12 [==============================] - 2s 206ms/step - loss: 8.8867e-05 - val_loss: 2.1208e-04\n",
            "Epoch 88/100\n",
            "12/12 [==============================] - 3s 234ms/step - loss: 8.2618e-05 - val_loss: 2.0127e-04\n",
            "Epoch 89/100\n",
            "12/12 [==============================] - 3s 269ms/step - loss: 8.9800e-05 - val_loss: 2.3226e-04\n",
            "Epoch 90/100\n",
            "12/12 [==============================] - 2s 205ms/step - loss: 8.6953e-05 - val_loss: 1.9233e-04\n",
            "Epoch 91/100\n",
            "12/12 [==============================] - 2s 210ms/step - loss: 8.4054e-05 - val_loss: 1.7832e-04\n",
            "Epoch 92/100\n",
            "12/12 [==============================] - 2s 209ms/step - loss: 8.0127e-05 - val_loss: 2.1174e-04\n",
            "Epoch 93/100\n",
            "12/12 [==============================] - 3s 259ms/step - loss: 1.0296e-04 - val_loss: 3.7787e-04\n",
            "Epoch 94/100\n",
            "12/12 [==============================] - 3s 234ms/step - loss: 9.6065e-05 - val_loss: 2.2241e-04\n",
            "Epoch 95/100\n",
            "12/12 [==============================] - 2s 207ms/step - loss: 9.1065e-05 - val_loss: 3.1859e-04\n",
            "Epoch 96/100\n",
            "12/12 [==============================] - 2s 204ms/step - loss: 8.7751e-05 - val_loss: 1.7554e-04\n",
            "Epoch 97/100\n",
            "12/12 [==============================] - 3s 233ms/step - loss: 7.7118e-05 - val_loss: 4.0638e-04\n",
            "Epoch 98/100\n",
            "12/12 [==============================] - 3s 297ms/step - loss: 9.2511e-05 - val_loss: 1.6383e-04\n",
            "Epoch 99/100\n",
            "12/12 [==============================] - 2s 207ms/step - loss: 7.6601e-05 - val_loss: 1.6759e-04\n",
            "Epoch 100/100\n",
            "12/12 [==============================] - 2s 204ms/step - loss: 8.0003e-05 - val_loss: 1.6740e-04\n"
          ]
        },
        {
          "output_type": "execute_result",
          "data": {
            "text/plain": [
              "<keras.callbacks.History at 0x7c37d391d810>"
            ]
          },
          "metadata": {},
          "execution_count": 34
        }
      ]
    },
    {
      "cell_type": "code",
      "source": [
        "import tensorflow as tf"
      ],
      "metadata": {
        "id": "fS1iSoKwh05S"
      },
      "execution_count": 35,
      "outputs": []
    },
    {
      "cell_type": "code",
      "source": [
        "tf.__version__"
      ],
      "metadata": {
        "colab": {
          "base_uri": "https://localhost:8080/",
          "height": 35
        },
        "id": "FIUct6qMjOE_",
        "outputId": "9c5aa51f-1b99-43ad-9351-1c75e9023837"
      },
      "execution_count": 36,
      "outputs": [
        {
          "output_type": "execute_result",
          "data": {
            "text/plain": [
              "'2.12.1'"
            ],
            "application/vnd.google.colaboratory.intrinsic+json": {
              "type": "string"
            }
          },
          "metadata": {},
          "execution_count": 36
        }
      ]
    },
    {
      "cell_type": "code",
      "source": [
        "train_predict = model.predict(X_train)\n",
        "test_predict = model.predict(X_test)"
      ],
      "metadata": {
        "colab": {
          "base_uri": "https://localhost:8080/"
        },
        "id": "lcpAcLuwjPn-",
        "outputId": "bfdc3387-a918-4b5b-ef8d-b18283e5e9cc"
      },
      "execution_count": 37,
      "outputs": [
        {
          "output_type": "stream",
          "name": "stdout",
          "text": [
            "23/23 [==============================] - 3s 40ms/step\n",
            "11/11 [==============================] - 0s 39ms/step\n"
          ]
        }
      ]
    },
    {
      "cell_type": "code",
      "source": [
        "# Tranforming back to the original form using inverser_transform\n",
        "train_predict = scaler.inverse_transform(train_predict)\n",
        "test_predict = scaler.inverse_transform(test_predict)"
      ],
      "metadata": {
        "id": "Ms-wtkwQjXy3"
      },
      "execution_count": 38,
      "outputs": []
    },
    {
      "cell_type": "code",
      "source": [
        "## Calculating the RMSE for performance metrics\n",
        "import math\n",
        "from sklearn.metrics import mean_squared_error\n",
        "math.sqrt(mean_squared_error(y_train, train_predict))"
      ],
      "metadata": {
        "colab": {
          "base_uri": "https://localhost:8080/"
        },
        "id": "UpiV3ZVNjnHZ",
        "outputId": "d54c5fdd-920b-4ffb-92b2-895552e7a256"
      },
      "execution_count": 39,
      "outputs": [
        {
          "output_type": "execute_result",
          "data": {
            "text/plain": [
              "154.4075889111992"
            ]
          },
          "metadata": {},
          "execution_count": 39
        }
      ]
    },
    {
      "cell_type": "code",
      "source": [
        "math.sqrt(mean_squared_error(y_test, test_predict))"
      ],
      "metadata": {
        "colab": {
          "base_uri": "https://localhost:8080/"
        },
        "id": "eWb8dXyVjslZ",
        "outputId": "03083a8a-0b7a-4b06-804a-07208aaf7341"
      },
      "execution_count": 40,
      "outputs": [
        {
          "output_type": "execute_result",
          "data": {
            "text/plain": [
              "213.42162149463002"
            ]
          },
          "metadata": {},
          "execution_count": 40
        }
      ]
    },
    {
      "cell_type": "code",
      "source": [
        "## Plot the predictions\n",
        "\n",
        "look_back = 100\n",
        "train_predictPlot = np.empty_like(data_scaled)\n",
        "train_predictPlot[:,:] = np.nan\n",
        "train_predictPlot[look_back:len(train_predict)+look_back, :] = train_predict\n",
        "\n",
        "#shift test predictions for plotting\n",
        "\n",
        "test_predictPlot = np.empty_like(data_scaled)\n",
        "test_predictPlot[:,:] = np.nan\n",
        "test_predictPlot[len(train_predict)+(look_back*2)+1:len(data_scaled)-1, :] = test_predict\n",
        "\n",
        "# Plot Baseline\n",
        "\n",
        "plt.plot(scaler.inverse_transform(data_scaled))\n",
        "plt.plot(train_predictPlot)\n",
        "plt.plot(test_predictPlot)\n",
        "plt.show()"
      ],
      "metadata": {
        "colab": {
          "base_uri": "https://localhost:8080/",
          "height": 430
        },
        "id": "PVM-ESTNj6De",
        "outputId": "22c0d242-013f-4f41-b3dc-88f3f366f3b1"
      },
      "execution_count": 41,
      "outputs": [
        {
          "output_type": "display_data",
          "data": {
            "text/plain": [
              "<Figure size 640x480 with 1 Axes>"
            ],
            "image/png": "[encoded data removed]"
          },
          "metadata": {}
        }
      ]
    },
    {
      "cell_type": "code",
      "source": [
        "x_input = test_data[341:].reshape(1,-1)\n",
        "x_input.shape"
      ],
      "metadata": {
        "colab": {
          "base_uri": "https://localhost:8080/"
        },
        "id": "eSC4qo7QkM1p",
        "outputId": "38ac4f90-8a93-46ac-d15d-64a1c8a622dd"
      },
      "execution_count": 42,
      "outputs": [
        {
          "output_type": "execute_result",
          "data": {
            "text/plain": [
              "(1, 98)"
            ]
          },
          "metadata": {},
          "execution_count": 42
        }
      ]
    },
    {
      "cell_type": "code",
      "source": [
        "temp_input = list(x_input)\n",
        "temp_input = temp_input[0].tolist()"
      ],
      "metadata": {
        "id": "8Bwjx-trmsPS"
      },
      "execution_count": 43,
      "outputs": []
    },
    {
      "cell_type": "code",
      "source": [
        "# Prediction for next 30 days\n",
        "\n",
        "lst_output = []\n",
        "n_steps = 100\n",
        "i = 0\n",
        "\n",
        "while i < 30:\n",
        "    # Ensure temp_input has exactly n_steps values\n",
        "    temp_array = np.array(temp_input[-n_steps:])  # take last n_steps\n",
        "    if len(temp_array) < n_steps:\n",
        "        # pad with zeros if not enough data\n",
        "        temp_array = np.pad(temp_array, (n_steps - len(temp_array), 0), mode='constant')\n",
        "\n",
        "    # Reshape to LSTM input format\n",
        "    x_input = temp_array.reshape((1, n_steps, 1))\n",
        "\n",
        "    # Predict next value\n",
        "    yhat = model.predict(x_input, verbose=0)\n",
        "\n",
        "    # Logging\n",
        "    print(f\"{i+1} day input: {temp_array}\")\n",
        "    print(f\"{i+1} day output: {yhat[0]}\")\n",
        "\n",
        "    # Append prediction\n",
        "    temp_input.append(yhat[0][0])\n",
        "    lst_output.append(yhat[0][0])\n",
        "\n",
        "    i += 1\n",
        "\n",
        "print(\"\\n30-Day Forecast Output:\")\n",
        "print(lst_output)"
      ],
      "metadata": {
        "colab": {
          "base_uri": "https://localhost:8080/"
        },
        "id": "nK0wEFHJm3pd",
        "outputId": "2d8c060a-c540-4d56-db5a-41b3270f02a1"
      },
      "execution_count": 46,
      "outputs": [
        {
          "output_type": "stream",
          "name": "stdout",
          "text": [
            "1 day input: [0.         0.         0.32676268 0.338134   0.32859111 0.32333125\n",
            " 0.32285535 0.32182843 0.33119599 0.30216656 0.28553538 0.27586725\n",
            " 0.25758297 0.26712586 0.26840326 0.2651221  0.27150908 0.26865373\n",
            " 0.27909831 0.28525986 0.29282405 0.28726362 0.29307451 0.27817157\n",
            " 0.28876644 0.29142142 0.2931747  0.24132749 0.20423294 0.18690044\n",
            " 0.16425798 0.23045711 0.20934252 0.22870382 0.23964934 0.23869756\n",
            " 0.2189856  0.22577332 0.21620539 0.23268629 0.24485911 0.25430182\n",
            " 0.25658109 0.25873513 0.26141515 0.26464621 0.26670006 0.24673763\n",
            " 0.23055729 0.22960551 0.2239449  0.22705072 0.2296556  0.26036318\n",
            " 0.26572323 0.26422041 0.26201628 0.26154039 0.25532874 0.25051972\n",
            " 0.23857232 0.23674389 0.22149029 0.23386349 0.23438948 0.23321227\n",
            " 0.2354665  0.23759549 0.24152786 0.24040075 0.23491547 0.24315592\n",
            " 0.23696932 0.24002505 0.23028178 0.23133375 0.22444584 0.22938009\n",
            " 0.22241703 0.22477145 0.2358422  0.23709455 0.23408892 0.23724483\n",
            " 0.2358422  0.23604258 0.24628679 0.25292423 0.26449593 0.26727614\n",
            " 0.25825924 0.25840952 0.26123982 0.26442079 0.26128992 0.25492799\n",
            " 0.25615529 0.25878522 0.25843456 0.26134001]\n",
            "1 day output: [0.25685248]\n",
            "2 day input: [0.         0.32676268 0.338134   0.32859111 0.32333125 0.32285535\n",
            " 0.32182843 0.33119599 0.30216656 0.28553538 0.27586725 0.25758297\n",
            " 0.26712586 0.26840326 0.2651221  0.27150908 0.26865373 0.27909831\n",
            " 0.28525986 0.29282405 0.28726362 0.29307451 0.27817157 0.28876644\n",
            " 0.29142142 0.2931747  0.24132749 0.20423294 0.18690044 0.16425798\n",
            " 0.23045711 0.20934252 0.22870382 0.23964934 0.23869756 0.2189856\n",
            " 0.22577332 0.21620539 0.23268629 0.24485911 0.25430182 0.25658109\n",
            " 0.25873513 0.26141515 0.26464621 0.26670006 0.24673763 0.23055729\n",
            " 0.22960551 0.2239449  0.22705072 0.2296556  0.26036318 0.26572323\n",
            " 0.26422041 0.26201628 0.26154039 0.25532874 0.25051972 0.23857232\n",
            " 0.23674389 0.22149029 0.23386349 0.23438948 0.23321227 0.2354665\n",
            " 0.23759549 0.24152786 0.24040075 0.23491547 0.24315592 0.23696932\n",
            " 0.24002505 0.23028178 0.23133375 0.22444584 0.22938009 0.22241703\n",
            " 0.22477145 0.2358422  0.23709455 0.23408892 0.23724483 0.2358422\n",
            " 0.23604258 0.24628679 0.25292423 0.26449593 0.26727614 0.25825924\n",
            " 0.25840952 0.26123982 0.26442079 0.26128992 0.25492799 0.25615529\n",
            " 0.25878522 0.25843456 0.26134001 0.25685248]\n",
            "2 day output: [0.25724486]\n",
            "3 day input: [0.32676268 0.338134   0.32859111 0.32333125 0.32285535 0.32182843\n",
            " 0.33119599 0.30216656 0.28553538 0.27586725 0.25758297 0.26712586\n",
            " 0.26840326 0.2651221  0.27150908 0.26865373 0.27909831 0.28525986\n",
            " 0.29282405 0.28726362 0.29307451 0.27817157 0.28876644 0.29142142\n",
            " 0.2931747  0.24132749 0.20423294 0.18690044 0.16425798 0.23045711\n",
            " 0.20934252 0.22870382 0.23964934 0.23869756 0.2189856  0.22577332\n",
            " 0.21620539 0.23268629 0.24485911 0.25430182 0.25658109 0.25873513\n",
            " 0.26141515 0.26464621 0.26670006 0.24673763 0.23055729 0.22960551\n",
            " 0.2239449  0.22705072 0.2296556  0.26036318 0.26572323 0.26422041\n",
            " 0.26201628 0.26154039 0.25532874 0.25051972 0.23857232 0.23674389\n",
            " 0.22149029 0.23386349 0.23438948 0.23321227 0.2354665  0.23759549\n",
            " 0.24152786 0.24040075 0.23491547 0.24315592 0.23696932 0.24002505\n",
            " 0.23028178 0.23133375 0.22444584 0.22938009 0.22241703 0.22477145\n",
            " 0.2358422  0.23709455 0.23408892 0.23724483 0.2358422  0.23604258\n",
            " 0.24628679 0.25292423 0.26449593 0.26727614 0.25825924 0.25840952\n",
            " 0.26123982 0.26442079 0.26128992 0.25492799 0.25615529 0.25878522\n",
            " 0.25843456 0.26134001 0.25685248 0.25724486]\n",
            "3 day output: [0.25665462]\n",
            "4 day input: [0.338134   0.32859111 0.32333125 0.32285535 0.32182843 0.33119599\n",
            " 0.30216656 0.28553538 0.27586725 0.25758297 0.26712586 0.26840326\n",
            " 0.2651221  0.27150908 0.26865373 0.27909831 0.28525986 0.29282405\n",
            " 0.28726362 0.29307451 0.27817157 0.28876644 0.29142142 0.2931747\n",
            " 0.24132749 0.20423294 0.18690044 0.16425798 0.23045711 0.20934252\n",
            " 0.22870382 0.23964934 0.23869756 0.2189856  0.22577332 0.21620539\n",
            " 0.23268629 0.24485911 0.25430182 0.25658109 0.25873513 0.26141515\n",
            " 0.26464621 0.26670006 0.24673763 0.23055729 0.22960551 0.2239449\n",
            " 0.22705072 0.2296556  0.26036318 0.26572323 0.26422041 0.26201628\n",
            " 0.26154039 0.25532874 0.25051972 0.23857232 0.23674389 0.22149029\n",
            " 0.23386349 0.23438948 0.23321227 0.2354665  0.23759549 0.24152786\n",
            " 0.24040075 0.23491547 0.24315592 0.23696932 0.24002505 0.23028178\n",
            " 0.23133375 0.22444584 0.22938009 0.22241703 0.22477145 0.2358422\n",
            " 0.23709455 0.23408892 0.23724483 0.2358422  0.23604258 0.24628679\n",
            " 0.25292423 0.26449593 0.26727614 0.25825924 0.25840952 0.26123982\n",
            " 0.26442079 0.26128992 0.25492799 0.25615529 0.25878522 0.25843456\n",
            " 0.26134001 0.25685248 0.25724486 0.25665462]\n",
            "4 day output: [0.25568372]\n",
            "5 day input: [0.32859111 0.32333125 0.32285535 0.32182843 0.33119599 0.30216656\n",
            " 0.28553538 0.27586725 0.25758297 0.26712586 0.26840326 0.2651221\n",
            " 0.27150908 0.26865373 0.27909831 0.28525986 0.29282405 0.28726362\n",
            " 0.29307451 0.27817157 0.28876644 0.29142142 0.2931747  0.24132749\n",
            " 0.20423294 0.18690044 0.16425798 0.23045711 0.20934252 0.22870382\n",
            " 0.23964934 0.23869756 0.2189856  0.22577332 0.21620539 0.23268629\n",
            " 0.24485911 0.25430182 0.25658109 0.25873513 0.26141515 0.26464621\n",
            " 0.26670006 0.24673763 0.23055729 0.22960551 0.2239449  0.22705072\n",
            " 0.2296556  0.26036318 0.26572323 0.26422041 0.26201628 0.26154039\n",
            " 0.25532874 0.25051972 0.23857232 0.23674389 0.22149029 0.23386349\n",
            " 0.23438948 0.23321227 0.2354665  0.23759549 0.24152786 0.24040075\n",
            " 0.23491547 0.24315592 0.23696932 0.24002505 0.23028178 0.23133375\n",
            " 0.22444584 0.22938009 0.22241703 0.22477145 0.2358422  0.23709455\n",
            " 0.23408892 0.23724483 0.2358422  0.23604258 0.24628679 0.25292423\n",
            " 0.26449593 0.26727614 0.25825924 0.25840952 0.26123982 0.26442079\n",
            " 0.26128992 0.25492799 0.25615529 0.25878522 0.25843456 0.26134001\n",
            " 0.25685248 0.25724486 0.25665462 0.25568372]\n",
            "5 day output: [0.25452107]\n",
            "6 day input: [0.32333125 0.32285535 0.32182843 0.33119599 0.30216656 0.28553538\n",
            " 0.27586725 0.25758297 0.26712586 0.26840326 0.2651221  0.27150908\n",
            " 0.26865373 0.27909831 0.28525986 0.29282405 0.28726362 0.29307451\n",
            " 0.27817157 0.28876644 0.29142142 0.2931747  0.24132749 0.20423294\n",
            " 0.18690044 0.16425798 0.23045711 0.20934252 0.22870382 0.23964934\n",
            " 0.23869756 0.2189856  0.22577332 0.21620539 0.23268629 0.24485911\n",
            " 0.25430182 0.25658109 0.25873513 0.26141515 0.26464621 0.26670006\n",
            " 0.24673763 0.23055729 0.22960551 0.2239449  0.22705072 0.2296556\n",
            " 0.26036318 0.26572323 0.26422041 0.26201628 0.26154039 0.25532874\n",
            " 0.25051972 0.23857232 0.23674389 0.22149029 0.23386349 0.23438948\n",
            " 0.23321227 0.2354665  0.23759549 0.24152786 0.24040075 0.23491547\n",
            " 0.24315592 0.23696932 0.24002505 0.23028178 0.23133375 0.22444584\n",
            " 0.22938009 0.22241703 0.22477145 0.2358422  0.23709455 0.23408892\n",
            " 0.23724483 0.2358422  0.23604258 0.24628679 0.25292423 0.26449593\n",
            " 0.26727614 0.25825924 0.25840952 0.26123982 0.26442079 0.26128992\n",
            " 0.25492799 0.25615529 0.25878522 0.25843456 0.26134001 0.25685248\n",
            " 0.25724486 0.25665462 0.25568372 0.25452107]\n",
            "6 day output: [0.25321802]\n",
            "7 day input: [0.32285535 0.32182843 0.33119599 0.30216656 0.28553538 0.27586725\n",
            " 0.25758297 0.26712586 0.26840326 0.2651221  0.27150908 0.26865373\n",
            " 0.27909831 0.28525986 0.29282405 0.28726362 0.29307451 0.27817157\n",
            " 0.28876644 0.29142142 0.2931747  0.24132749 0.20423294 0.18690044\n",
            " 0.16425798 0.23045711 0.20934252 0.22870382 0.23964934 0.23869756\n",
            " 0.2189856  0.22577332 0.21620539 0.23268629 0.24485911 0.25430182\n",
            " 0.25658109 0.25873513 0.26141515 0.26464621 0.26670006 0.24673763\n",
            " 0.23055729 0.22960551 0.2239449  0.22705072 0.2296556  0.26036318\n",
            " 0.26572323 0.26422041 0.26201628 0.26154039 0.25532874 0.25051972\n",
            " 0.23857232 0.23674389 0.22149029 0.23386349 0.23438948 0.23321227\n",
            " 0.2354665  0.23759549 0.24152786 0.24040075 0.23491547 0.24315592\n",
            " 0.23696932 0.24002505 0.23028178 0.23133375 0.22444584 0.22938009\n",
            " 0.22241703 0.22477145 0.2358422  0.23709455 0.23408892 0.23724483\n",
            " 0.2358422  0.23604258 0.24628679 0.25292423 0.26449593 0.26727614\n",
            " 0.25825924 0.25840952 0.26123982 0.26442079 0.26128992 0.25492799\n",
            " 0.25615529 0.25878522 0.25843456 0.26134001 0.25685248 0.25724486\n",
            " 0.25665462 0.25568372 0.25452107 0.25321802]\n",
            "7 day output: [0.2518029]\n",
            "8 day input: [0.32182843 0.33119599 0.30216656 0.28553538 0.27586725 0.25758297\n",
            " 0.26712586 0.26840326 0.2651221  0.27150908 0.26865373 0.27909831\n",
            " 0.28525986 0.29282405 0.28726362 0.29307451 0.27817157 0.28876644\n",
            " 0.29142142 0.2931747  0.24132749 0.20423294 0.18690044 0.16425798\n",
            " 0.23045711 0.20934252 0.22870382 0.23964934 0.23869756 0.2189856\n",
            " 0.22577332 0.21620539 0.23268629 0.24485911 0.25430182 0.25658109\n",
            " 0.25873513 0.26141515 0.26464621 0.26670006 0.24673763 0.23055729\n",
            " 0.22960551 0.2239449  0.22705072 0.2296556  0.26036318 0.26572323\n",
            " 0.26422041 0.26201628 0.26154039 0.25532874 0.25051972 0.23857232\n",
            " 0.23674389 0.22149029 0.23386349 0.23438948 0.23321227 0.2354665\n",
            " 0.23759549 0.24152786 0.24040075 0.23491547 0.24315592 0.23696932\n",
            " 0.24002505 0.23028178 0.23133375 0.22444584 0.22938009 0.22241703\n",
            " 0.22477145 0.2358422  0.23709455 0.23408892 0.23724483 0.2358422\n",
            " 0.23604258 0.24628679 0.25292423 0.26449593 0.26727614 0.25825924\n",
            " 0.25840952 0.26123982 0.26442079 0.26128992 0.25492799 0.25615529\n",
            " 0.25878522 0.25843456 0.26134001 0.25685248 0.25724486 0.25665462\n",
            " 0.25568372 0.25452107 0.25321802 0.25180289]\n",
            "8 day output: [0.25030515]\n",
            "9 day input: [0.33119599 0.30216656 0.28553538 0.27586725 0.25758297 0.26712586\n",
            " 0.26840326 0.2651221  0.27150908 0.26865373 0.27909831 0.28525986\n",
            " 0.29282405 0.28726362 0.29307451 0.27817157 0.28876644 0.29142142\n",
            " 0.2931747  0.24132749 0.20423294 0.18690044 0.16425798 0.23045711\n",
            " 0.20934252 0.22870382 0.23964934 0.23869756 0.2189856  0.22577332\n",
            " 0.21620539 0.23268629 0.24485911 0.25430182 0.25658109 0.25873513\n",
            " 0.26141515 0.26464621 0.26670006 0.24673763 0.23055729 0.22960551\n",
            " 0.2239449  0.22705072 0.2296556  0.26036318 0.26572323 0.26422041\n",
            " 0.26201628 0.26154039 0.25532874 0.25051972 0.23857232 0.23674389\n",
            " 0.22149029 0.23386349 0.23438948 0.23321227 0.2354665  0.23759549\n",
            " 0.24152786 0.24040075 0.23491547 0.24315592 0.23696932 0.24002505\n",
            " 0.23028178 0.23133375 0.22444584 0.22938009 0.22241703 0.22477145\n",
            " 0.2358422  0.23709455 0.23408892 0.23724483 0.2358422  0.23604258\n",
            " 0.24628679 0.25292423 0.26449593 0.26727614 0.25825924 0.25840952\n",
            " 0.26123982 0.26442079 0.26128992 0.25492799 0.25615529 0.25878522\n",
            " 0.25843456 0.26134001 0.25685248 0.25724486 0.25665462 0.25568372\n",
            " 0.25452107 0.25321802 0.25180289 0.25030515]\n",
            "9 day output: [0.24875431]\n",
            "10 day input: [0.30216656 0.28553538 0.27586725 0.25758297 0.26712586 0.26840326\n",
            " 0.2651221  0.27150908 0.26865373 0.27909831 0.28525986 0.29282405\n",
            " 0.28726362 0.29307451 0.27817157 0.28876644 0.29142142 0.2931747\n",
            " 0.24132749 0.20423294 0.18690044 0.16425798 0.23045711 0.20934252\n",
            " 0.22870382 0.23964934 0.23869756 0.2189856  0.22577332 0.21620539\n",
            " 0.23268629 0.24485911 0.25430182 0.25658109 0.25873513 0.26141515\n",
            " 0.26464621 0.26670006 0.24673763 0.23055729 0.22960551 0.2239449\n",
            " 0.22705072 0.2296556  0.26036318 0.26572323 0.26422041 0.26201628\n",
            " 0.26154039 0.25532874 0.25051972 0.23857232 0.23674389 0.22149029\n",
            " 0.23386349 0.23438948 0.23321227 0.2354665  0.23759549 0.24152786\n",
            " 0.24040075 0.23491547 0.24315592 0.23696932 0.24002505 0.23028178\n",
            " 0.23133375 0.22444584 0.22938009 0.22241703 0.22477145 0.2358422\n",
            " 0.23709455 0.23408892 0.23724483 0.2358422  0.23604258 0.24628679\n",
            " 0.25292423 0.26449593 0.26727614 0.25825924 0.25840952 0.26123982\n",
            " 0.26442079 0.26128992 0.25492799 0.25615529 0.25878522 0.25843456\n",
            " 0.26134001 0.25685248 0.25724486 0.25665462 0.25568372 0.25452107\n",
            " 0.25321802 0.25180289 0.25030515 0.24875431]\n",
            "10 day output: [0.24717693]\n",
            "11 day input: [0.28553538 0.27586725 0.25758297 0.26712586 0.26840326 0.2651221\n",
            " 0.27150908 0.26865373 0.27909831 0.28525986 0.29282405 0.28726362\n",
            " 0.29307451 0.27817157 0.28876644 0.29142142 0.2931747  0.24132749\n",
            " 0.20423294 0.18690044 0.16425798 0.23045711 0.20934252 0.22870382\n",
            " 0.23964934 0.23869756 0.2189856  0.22577332 0.21620539 0.23268629\n",
            " 0.24485911 0.25430182 0.25658109 0.25873513 0.26141515 0.26464621\n",
            " 0.26670006 0.24673763 0.23055729 0.22960551 0.2239449  0.22705072\n",
            " 0.2296556  0.26036318 0.26572323 0.26422041 0.26201628 0.26154039\n",
            " 0.25532874 0.25051972 0.23857232 0.23674389 0.22149029 0.23386349\n",
            " 0.23438948 0.23321227 0.2354665  0.23759549 0.24152786 0.24040075\n",
            " 0.23491547 0.24315592 0.23696932 0.24002505 0.23028178 0.23133375\n",
            " 0.22444584 0.22938009 0.22241703 0.22477145 0.2358422  0.23709455\n",
            " 0.23408892 0.23724483 0.2358422  0.23604258 0.24628679 0.25292423\n",
            " 0.26449593 0.26727614 0.25825924 0.25840952 0.26123982 0.26442079\n",
            " 0.26128992 0.25492799 0.25615529 0.25878522 0.25843456 0.26134001\n",
            " 0.25685248 0.25724486 0.25665462 0.25568372 0.25452107 0.25321802\n",
            " 0.25180289 0.25030515 0.24875431 0.24717693]\n",
            "11 day output: [0.24559431]\n",
            "12 day input: [0.27586725 0.25758297 0.26712586 0.26840326 0.2651221  0.27150908\n",
            " 0.26865373 0.27909831 0.28525986 0.29282405 0.28726362 0.29307451\n",
            " 0.27817157 0.28876644 0.29142142 0.2931747  0.24132749 0.20423294\n",
            " 0.18690044 0.16425798 0.23045711 0.20934252 0.22870382 0.23964934\n",
            " 0.23869756 0.2189856  0.22577332 0.21620539 0.23268629 0.24485911\n",
            " 0.25430182 0.25658109 0.25873513 0.26141515 0.26464621 0.26670006\n",
            " 0.24673763 0.23055729 0.22960551 0.2239449  0.22705072 0.2296556\n",
            " 0.26036318 0.26572323 0.26422041 0.26201628 0.26154039 0.25532874\n",
            " 0.25051972 0.23857232 0.23674389 0.22149029 0.23386349 0.23438948\n",
            " 0.23321227 0.2354665  0.23759549 0.24152786 0.24040075 0.23491547\n",
            " 0.24315592 0.23696932 0.24002505 0.23028178 0.23133375 0.22444584\n",
            " 0.22938009 0.22241703 0.22477145 0.2358422  0.23709455 0.23408892\n",
            " 0.23724483 0.2358422  0.23604258 0.24628679 0.25292423 0.26449593\n",
            " 0.26727614 0.25825924 0.25840952 0.26123982 0.26442079 0.26128992\n",
            " 0.25492799 0.25615529 0.25878522 0.25843456 0.26134001 0.25685248\n",
            " 0.25724486 0.25665462 0.25568372 0.25452107 0.25321802 0.25180289\n",
            " 0.25030515 0.24875431 0.24717693 0.24559431]\n",
            "12 day output: [0.24402198]\n",
            "13 day input: [0.25758297 0.26712586 0.26840326 0.2651221  0.27150908 0.26865373\n",
            " 0.27909831 0.28525986 0.29282405 0.28726362 0.29307451 0.27817157\n",
            " 0.28876644 0.29142142 0.2931747  0.24132749 0.20423294 0.18690044\n",
            " 0.16425798 0.23045711 0.20934252 0.22870382 0.23964934 0.23869756\n",
            " 0.2189856  0.22577332 0.21620539 0.23268629 0.24485911 0.25430182\n",
            " 0.25658109 0.25873513 0.26141515 0.26464621 0.26670006 0.24673763\n",
            " 0.23055729 0.22960551 0.2239449  0.22705072 0.2296556  0.26036318\n",
            " 0.26572323 0.26422041 0.26201628 0.26154039 0.25532874 0.25051972\n",
            " 0.23857232 0.23674389 0.22149029 0.23386349 0.23438948 0.23321227\n",
            " 0.2354665  0.23759549 0.24152786 0.24040075 0.23491547 0.24315592\n",
            " 0.23696932 0.24002505 0.23028178 0.23133375 0.22444584 0.22938009\n",
            " 0.22241703 0.22477145 0.2358422  0.23709455 0.23408892 0.23724483\n",
            " 0.2358422  0.23604258 0.24628679 0.25292423 0.26449593 0.26727614\n",
            " 0.25825924 0.25840952 0.26123982 0.26442079 0.26128992 0.25492799\n",
            " 0.25615529 0.25878522 0.25843456 0.26134001 0.25685248 0.25724486\n",
            " 0.25665462 0.25568372 0.25452107 0.25321802 0.25180289 0.25030515\n",
            " 0.24875431 0.24717693 0.24559431 0.24402198]\n",
            "13 day output: [0.24246974]\n",
            "14 day input: [0.26712586 0.26840326 0.2651221  0.27150908 0.26865373 0.27909831\n",
            " 0.28525986 0.29282405 0.28726362 0.29307451 0.27817157 0.28876644\n",
            " 0.29142142 0.2931747  0.24132749 0.20423294 0.18690044 0.16425798\n",
            " 0.23045711 0.20934252 0.22870382 0.23964934 0.23869756 0.2189856\n",
            " 0.22577332 0.21620539 0.23268629 0.24485911 0.25430182 0.25658109\n",
            " 0.25873513 0.26141515 0.26464621 0.26670006 0.24673763 0.23055729\n",
            " 0.22960551 0.2239449  0.22705072 0.2296556  0.26036318 0.26572323\n",
            " 0.26422041 0.26201628 0.26154039 0.25532874 0.25051972 0.23857232\n",
            " 0.23674389 0.22149029 0.23386349 0.23438948 0.23321227 0.2354665\n",
            " 0.23759549 0.24152786 0.24040075 0.23491547 0.24315592 0.23696932\n",
            " 0.24002505 0.23028178 0.23133375 0.22444584 0.22938009 0.22241703\n",
            " 0.22477145 0.2358422  0.23709455 0.23408892 0.23724483 0.2358422\n",
            " 0.23604258 0.24628679 0.25292423 0.26449593 0.26727614 0.25825924\n",
            " 0.25840952 0.26123982 0.26442079 0.26128992 0.25492799 0.25615529\n",
            " 0.25878522 0.25843456 0.26134001 0.25685248 0.25724486 0.25665462\n",
            " 0.25568372 0.25452107 0.25321802 0.25180289 0.25030515 0.24875431\n",
            " 0.24717693 0.24559431 0.24402198 0.24246974]\n",
            "14 day output: [0.24094246]\n",
            "15 day input: [0.26840326 0.2651221  0.27150908 0.26865373 0.27909831 0.28525986\n",
            " 0.29282405 0.28726362 0.29307451 0.27817157 0.28876644 0.29142142\n",
            " 0.2931747  0.24132749 0.20423294 0.18690044 0.16425798 0.23045711\n",
            " 0.20934252 0.22870382 0.23964934 0.23869756 0.2189856  0.22577332\n",
            " 0.21620539 0.23268629 0.24485911 0.25430182 0.25658109 0.25873513\n",
            " 0.26141515 0.26464621 0.26670006 0.24673763 0.23055729 0.22960551\n",
            " 0.2239449  0.22705072 0.2296556  0.26036318 0.26572323 0.26422041\n",
            " 0.26201628 0.26154039 0.25532874 0.25051972 0.23857232 0.23674389\n",
            " 0.22149029 0.23386349 0.23438948 0.23321227 0.2354665  0.23759549\n",
            " 0.24152786 0.24040075 0.23491547 0.24315592 0.23696932 0.24002505\n",
            " 0.23028178 0.23133375 0.22444584 0.22938009 0.22241703 0.22477145\n",
            " 0.2358422  0.23709455 0.23408892 0.23724483 0.2358422  0.23604258\n",
            " 0.24628679 0.25292423 0.26449593 0.26727614 0.25825924 0.25840952\n",
            " 0.26123982 0.26442079 0.26128992 0.25492799 0.25615529 0.25878522\n",
            " 0.25843456 0.26134001 0.25685248 0.25724486 0.25665462 0.25568372\n",
            " 0.25452107 0.25321802 0.25180289 0.25030515 0.24875431 0.24717693\n",
            " 0.24559431 0.24402198 0.24246974 0.24094246]\n",
            "15 day output: [0.23944078]\n",
            "16 day input: [0.2651221  0.27150908 0.26865373 0.27909831 0.28525986 0.29282405\n",
            " 0.28726362 0.29307451 0.27817157 0.28876644 0.29142142 0.2931747\n",
            " 0.24132749 0.20423294 0.18690044 0.16425798 0.23045711 0.20934252\n",
            " 0.22870382 0.23964934 0.23869756 0.2189856  0.22577332 0.21620539\n",
            " 0.23268629 0.24485911 0.25430182 0.25658109 0.25873513 0.26141515\n",
            " 0.26464621 0.26670006 0.24673763 0.23055729 0.22960551 0.2239449\n",
            " 0.22705072 0.2296556  0.26036318 0.26572323 0.26422041 0.26201628\n",
            " 0.26154039 0.25532874 0.25051972 0.23857232 0.23674389 0.22149029\n",
            " 0.23386349 0.23438948 0.23321227 0.2354665  0.23759549 0.24152786\n",
            " 0.24040075 0.23491547 0.24315592 0.23696932 0.24002505 0.23028178\n",
            " 0.23133375 0.22444584 0.22938009 0.22241703 0.22477145 0.2358422\n",
            " 0.23709455 0.23408892 0.23724483 0.2358422  0.23604258 0.24628679\n",
            " 0.25292423 0.26449593 0.26727614 0.25825924 0.25840952 0.26123982\n",
            " 0.26442079 0.26128992 0.25492799 0.25615529 0.25878522 0.25843456\n",
            " 0.26134001 0.25685248 0.25724486 0.25665462 0.25568372 0.25452107\n",
            " 0.25321802 0.25180289 0.25030515 0.24875431 0.24717693 0.24559431\n",
            " 0.24402198 0.24246974 0.24094246 0.23944078]\n",
            "16 day output: [0.23796277]\n",
            "17 day input: [0.27150908 0.26865373 0.27909831 0.28525986 0.29282405 0.28726362\n",
            " 0.29307451 0.27817157 0.28876644 0.29142142 0.2931747  0.24132749\n",
            " 0.20423294 0.18690044 0.16425798 0.23045711 0.20934252 0.22870382\n",
            " 0.23964934 0.23869756 0.2189856  0.22577332 0.21620539 0.23268629\n",
            " 0.24485911 0.25430182 0.25658109 0.25873513 0.26141515 0.26464621\n",
            " 0.26670006 0.24673763 0.23055729 0.22960551 0.2239449  0.22705072\n",
            " 0.2296556  0.26036318 0.26572323 0.26422041 0.26201628 0.26154039\n",
            " 0.25532874 0.25051972 0.23857232 0.23674389 0.22149029 0.23386349\n",
            " 0.23438948 0.23321227 0.2354665  0.23759549 0.24152786 0.24040075\n",
            " 0.23491547 0.24315592 0.23696932 0.24002505 0.23028178 0.23133375\n",
            " 0.22444584 0.22938009 0.22241703 0.22477145 0.2358422  0.23709455\n",
            " 0.23408892 0.23724483 0.2358422  0.23604258 0.24628679 0.25292423\n",
            " 0.26449593 0.26727614 0.25825924 0.25840952 0.26123982 0.26442079\n",
            " 0.26128992 0.25492799 0.25615529 0.25878522 0.25843456 0.26134001\n",
            " 0.25685248 0.25724486 0.25665462 0.25568372 0.25452107 0.25321802\n",
            " 0.25180289 0.25030515 0.24875431 0.24717693 0.24559431 0.24402198\n",
            " 0.24246974 0.24094246 0.23944078 0.23796277]\n",
            "17 day output: [0.23650475]\n",
            "18 day input: [0.26865373 0.27909831 0.28525986 0.29282405 0.28726362 0.29307451\n",
            " 0.27817157 0.28876644 0.29142142 0.2931747  0.24132749 0.20423294\n",
            " 0.18690044 0.16425798 0.23045711 0.20934252 0.22870382 0.23964934\n",
            " 0.23869756 0.2189856  0.22577332 0.21620539 0.23268629 0.24485911\n",
            " 0.25430182 0.25658109 0.25873513 0.26141515 0.26464621 0.26670006\n",
            " 0.24673763 0.23055729 0.22960551 0.2239449  0.22705072 0.2296556\n",
            " 0.26036318 0.26572323 0.26422041 0.26201628 0.26154039 0.25532874\n",
            " 0.25051972 0.23857232 0.23674389 0.22149029 0.23386349 0.23438948\n",
            " 0.23321227 0.2354665  0.23759549 0.24152786 0.24040075 0.23491547\n",
            " 0.24315592 0.23696932 0.24002505 0.23028178 0.23133375 0.22444584\n",
            " 0.22938009 0.22241703 0.22477145 0.2358422  0.23709455 0.23408892\n",
            " 0.23724483 0.2358422  0.23604258 0.24628679 0.25292423 0.26449593\n",
            " 0.26727614 0.25825924 0.25840952 0.26123982 0.26442079 0.26128992\n",
            " 0.25492799 0.25615529 0.25878522 0.25843456 0.26134001 0.25685248\n",
            " 0.25724486 0.25665462 0.25568372 0.25452107 0.25321802 0.25180289\n",
            " 0.25030515 0.24875431 0.24717693 0.24559431 0.24402198 0.24246974\n",
            " 0.24094246 0.23944078 0.23796277 0.23650475]\n",
            "18 day output: [0.23506242]\n",
            "19 day input: [0.27909831 0.28525986 0.29282405 0.28726362 0.29307451 0.27817157\n",
            " 0.28876644 0.29142142 0.2931747  0.24132749 0.20423294 0.18690044\n",
            " 0.16425798 0.23045711 0.20934252 0.22870382 0.23964934 0.23869756\n",
            " 0.2189856  0.22577332 0.21620539 0.23268629 0.24485911 0.25430182\n",
            " 0.25658109 0.25873513 0.26141515 0.26464621 0.26670006 0.24673763\n",
            " 0.23055729 0.22960551 0.2239449  0.22705072 0.2296556  0.26036318\n",
            " 0.26572323 0.26422041 0.26201628 0.26154039 0.25532874 0.25051972\n",
            " 0.23857232 0.23674389 0.22149029 0.23386349 0.23438948 0.23321227\n",
            " 0.2354665  0.23759549 0.24152786 0.24040075 0.23491547 0.24315592\n",
            " 0.23696932 0.24002505 0.23028178 0.23133375 0.22444584 0.22938009\n",
            " 0.22241703 0.22477145 0.2358422  0.23709455 0.23408892 0.23724483\n",
            " 0.2358422  0.23604258 0.24628679 0.25292423 0.26449593 0.26727614\n",
            " 0.25825924 0.25840952 0.26123982 0.26442079 0.26128992 0.25492799\n",
            " 0.25615529 0.25878522 0.25843456 0.26134001 0.25685248 0.25724486\n",
            " 0.25665462 0.25568372 0.25452107 0.25321802 0.25180289 0.25030515\n",
            " 0.24875431 0.24717693 0.24559431 0.24402198 0.24246974 0.24094246\n",
            " 0.23944078 0.23796277 0.23650475 0.23506242]\n",
            "19 day output: [0.23363182]\n",
            "20 day input: [0.28525986 0.29282405 0.28726362 0.29307451 0.27817157 0.28876644\n",
            " 0.29142142 0.2931747  0.24132749 0.20423294 0.18690044 0.16425798\n",
            " 0.23045711 0.20934252 0.22870382 0.23964934 0.23869756 0.2189856\n",
            " 0.22577332 0.21620539 0.23268629 0.24485911 0.25430182 0.25658109\n",
            " 0.25873513 0.26141515 0.26464621 0.26670006 0.24673763 0.23055729\n",
            " 0.22960551 0.2239449  0.22705072 0.2296556  0.26036318 0.26572323\n",
            " 0.26422041 0.26201628 0.26154039 0.25532874 0.25051972 0.23857232\n",
            " 0.23674389 0.22149029 0.23386349 0.23438948 0.23321227 0.2354665\n",
            " 0.23759549 0.24152786 0.24040075 0.23491547 0.24315592 0.23696932\n",
            " 0.24002505 0.23028178 0.23133375 0.22444584 0.22938009 0.22241703\n",
            " 0.22477145 0.2358422  0.23709455 0.23408892 0.23724483 0.2358422\n",
            " 0.23604258 0.24628679 0.25292423 0.26449593 0.26727614 0.25825924\n",
            " 0.25840952 0.26123982 0.26442079 0.26128992 0.25492799 0.25615529\n",
            " 0.25878522 0.25843456 0.26134001 0.25685248 0.25724486 0.25665462\n",
            " 0.25568372 0.25452107 0.25321802 0.25180289 0.25030515 0.24875431\n",
            " 0.24717693 0.24559431 0.24402198 0.24246974 0.24094246 0.23944078\n",
            " 0.23796277 0.23650475 0.23506242 0.23363182]\n",
            "20 day output: [0.23220988]\n",
            "21 day input: [0.29282405 0.28726362 0.29307451 0.27817157 0.28876644 0.29142142\n",
            " 0.2931747  0.24132749 0.20423294 0.18690044 0.16425798 0.23045711\n",
            " 0.20934252 0.22870382 0.23964934 0.23869756 0.2189856  0.22577332\n",
            " 0.21620539 0.23268629 0.24485911 0.25430182 0.25658109 0.25873513\n",
            " 0.26141515 0.26464621 0.26670006 0.24673763 0.23055729 0.22960551\n",
            " 0.2239449  0.22705072 0.2296556  0.26036318 0.26572323 0.26422041\n",
            " 0.26201628 0.26154039 0.25532874 0.25051972 0.23857232 0.23674389\n",
            " 0.22149029 0.23386349 0.23438948 0.23321227 0.2354665  0.23759549\n",
            " 0.24152786 0.24040075 0.23491547 0.24315592 0.23696932 0.24002505\n",
            " 0.23028178 0.23133375 0.22444584 0.22938009 0.22241703 0.22477145\n",
            " 0.2358422  0.23709455 0.23408892 0.23724483 0.2358422  0.23604258\n",
            " 0.24628679 0.25292423 0.26449593 0.26727614 0.25825924 0.25840952\n",
            " 0.26123982 0.26442079 0.26128992 0.25492799 0.25615529 0.25878522\n",
            " 0.25843456 0.26134001 0.25685248 0.25724486 0.25665462 0.25568372\n",
            " 0.25452107 0.25321802 0.25180289 0.25030515 0.24875431 0.24717693\n",
            " 0.24559431 0.24402198 0.24246974 0.24094246 0.23944078 0.23796277\n",
            " 0.23650475 0.23506242 0.23363182 0.23220988]\n",
            "21 day output: [0.23079458]\n",
            "22 day input: [0.28726362 0.29307451 0.27817157 0.28876644 0.29142142 0.2931747\n",
            " 0.24132749 0.20423294 0.18690044 0.16425798 0.23045711 0.20934252\n",
            " 0.22870382 0.23964934 0.23869756 0.2189856  0.22577332 0.21620539\n",
            " 0.23268629 0.24485911 0.25430182 0.25658109 0.25873513 0.26141515\n",
            " 0.26464621 0.26670006 0.24673763 0.23055729 0.22960551 0.2239449\n",
            " 0.22705072 0.2296556  0.26036318 0.26572323 0.26422041 0.26201628\n",
            " 0.26154039 0.25532874 0.25051972 0.23857232 0.23674389 0.22149029\n",
            " 0.23386349 0.23438948 0.23321227 0.2354665  0.23759549 0.24152786\n",
            " 0.24040075 0.23491547 0.24315592 0.23696932 0.24002505 0.23028178\n",
            " 0.23133375 0.22444584 0.22938009 0.22241703 0.22477145 0.2358422\n",
            " 0.23709455 0.23408892 0.23724483 0.2358422  0.23604258 0.24628679\n",
            " 0.25292423 0.26449593 0.26727614 0.25825924 0.25840952 0.26123982\n",
            " 0.26442079 0.26128992 0.25492799 0.25615529 0.25878522 0.25843456\n",
            " 0.26134001 0.25685248 0.25724486 0.25665462 0.25568372 0.25452107\n",
            " 0.25321802 0.25180289 0.25030515 0.24875431 0.24717693 0.24559431\n",
            " 0.24402198 0.24246974 0.24094246 0.23944078 0.23796277 0.23650475\n",
            " 0.23506242 0.23363182 0.23220988 0.23079458]\n",
            "22 day output: [0.22938517]\n",
            "23 day input: [0.29307451 0.27817157 0.28876644 0.29142142 0.2931747  0.24132749\n",
            " 0.20423294 0.18690044 0.16425798 0.23045711 0.20934252 0.22870382\n",
            " 0.23964934 0.23869756 0.2189856  0.22577332 0.21620539 0.23268629\n",
            " 0.24485911 0.25430182 0.25658109 0.25873513 0.26141515 0.26464621\n",
            " 0.26670006 0.24673763 0.23055729 0.22960551 0.2239449  0.22705072\n",
            " 0.2296556  0.26036318 0.26572323 0.26422041 0.26201628 0.26154039\n",
            " 0.25532874 0.25051972 0.23857232 0.23674389 0.22149029 0.23386349\n",
            " 0.23438948 0.23321227 0.2354665  0.23759549 0.24152786 0.24040075\n",
            " 0.23491547 0.24315592 0.23696932 0.24002505 0.23028178 0.23133375\n",
            " 0.22444584 0.22938009 0.22241703 0.22477145 0.2358422  0.23709455\n",
            " 0.23408892 0.23724483 0.2358422  0.23604258 0.24628679 0.25292423\n",
            " 0.26449593 0.26727614 0.25825924 0.25840952 0.26123982 0.26442079\n",
            " 0.26128992 0.25492799 0.25615529 0.25878522 0.25843456 0.26134001\n",
            " 0.25685248 0.25724486 0.25665462 0.25568372 0.25452107 0.25321802\n",
            " 0.25180289 0.25030515 0.24875431 0.24717693 0.24559431 0.24402198\n",
            " 0.24246974 0.24094246 0.23944078 0.23796277 0.23650475 0.23506242\n",
            " 0.23363182 0.23220988 0.23079458 0.22938517]\n",
            "23 day output: [0.22798245]\n",
            "24 day input: [0.27817157 0.28876644 0.29142142 0.2931747  0.24132749 0.20423294\n",
            " 0.18690044 0.16425798 0.23045711 0.20934252 0.22870382 0.23964934\n",
            " 0.23869756 0.2189856  0.22577332 0.21620539 0.23268629 0.24485911\n",
            " 0.25430182 0.25658109 0.25873513 0.26141515 0.26464621 0.26670006\n",
            " 0.24673763 0.23055729 0.22960551 0.2239449  0.22705072 0.2296556\n",
            " 0.26036318 0.26572323 0.26422041 0.26201628 0.26154039 0.25532874\n",
            " 0.25051972 0.23857232 0.23674389 0.22149029 0.23386349 0.23438948\n",
            " 0.23321227 0.2354665  0.23759549 0.24152786 0.24040075 0.23491547\n",
            " 0.24315592 0.23696932 0.24002505 0.23028178 0.23133375 0.22444584\n",
            " 0.22938009 0.22241703 0.22477145 0.2358422  0.23709455 0.23408892\n",
            " 0.23724483 0.2358422  0.23604258 0.24628679 0.25292423 0.26449593\n",
            " 0.26727614 0.25825924 0.25840952 0.26123982 0.26442079 0.26128992\n",
            " 0.25492799 0.25615529 0.25878522 0.25843456 0.26134001 0.25685248\n",
            " 0.25724486 0.25665462 0.25568372 0.25452107 0.25321802 0.25180289\n",
            " 0.25030515 0.24875431 0.24717693 0.24559431 0.24402198 0.24246974\n",
            " 0.24094246 0.23944078 0.23796277 0.23650475 0.23506242 0.23363182\n",
            " 0.23220988 0.23079458 0.22938517 0.22798245]\n",
            "24 day output: [0.22658792]\n",
            "25 day input: [0.28876644 0.29142142 0.2931747  0.24132749 0.20423294 0.18690044\n",
            " 0.16425798 0.23045711 0.20934252 0.22870382 0.23964934 0.23869756\n",
            " 0.2189856  0.22577332 0.21620539 0.23268629 0.24485911 0.25430182\n",
            " 0.25658109 0.25873513 0.26141515 0.26464621 0.26670006 0.24673763\n",
            " 0.23055729 0.22960551 0.2239449  0.22705072 0.2296556  0.26036318\n",
            " 0.26572323 0.26422041 0.26201628 0.26154039 0.25532874 0.25051972\n",
            " 0.23857232 0.23674389 0.22149029 0.23386349 0.23438948 0.23321227\n",
            " 0.2354665  0.23759549 0.24152786 0.24040075 0.23491547 0.24315592\n",
            " 0.23696932 0.24002505 0.23028178 0.23133375 0.22444584 0.22938009\n",
            " 0.22241703 0.22477145 0.2358422  0.23709455 0.23408892 0.23724483\n",
            " 0.2358422  0.23604258 0.24628679 0.25292423 0.26449593 0.26727614\n",
            " 0.25825924 0.25840952 0.26123982 0.26442079 0.26128992 0.25492799\n",
            " 0.25615529 0.25878522 0.25843456 0.26134001 0.25685248 0.25724486\n",
            " 0.25665462 0.25568372 0.25452107 0.25321802 0.25180289 0.25030515\n",
            " 0.24875431 0.24717693 0.24559431 0.24402198 0.24246974 0.24094246\n",
            " 0.23944078 0.23796277 0.23650475 0.23506242 0.23363182 0.23220988\n",
            " 0.23079458 0.22938517 0.22798245 0.22658792]\n",
            "25 day output: [0.22520387]\n",
            "26 day input: [0.29142142 0.2931747  0.24132749 0.20423294 0.18690044 0.16425798\n",
            " 0.23045711 0.20934252 0.22870382 0.23964934 0.23869756 0.2189856\n",
            " 0.22577332 0.21620539 0.23268629 0.24485911 0.25430182 0.25658109\n",
            " 0.25873513 0.26141515 0.26464621 0.26670006 0.24673763 0.23055729\n",
            " 0.22960551 0.2239449  0.22705072 0.2296556  0.26036318 0.26572323\n",
            " 0.26422041 0.26201628 0.26154039 0.25532874 0.25051972 0.23857232\n",
            " 0.23674389 0.22149029 0.23386349 0.23438948 0.23321227 0.2354665\n",
            " 0.23759549 0.24152786 0.24040075 0.23491547 0.24315592 0.23696932\n",
            " 0.24002505 0.23028178 0.23133375 0.22444584 0.22938009 0.22241703\n",
            " 0.22477145 0.2358422  0.23709455 0.23408892 0.23724483 0.2358422\n",
            " 0.23604258 0.24628679 0.25292423 0.26449593 0.26727614 0.25825924\n",
            " 0.25840952 0.26123982 0.26442079 0.26128992 0.25492799 0.25615529\n",
            " 0.25878522 0.25843456 0.26134001 0.25685248 0.25724486 0.25665462\n",
            " 0.25568372 0.25452107 0.25321802 0.25180289 0.25030515 0.24875431\n",
            " 0.24717693 0.24559431 0.24402198 0.24246974 0.24094246 0.23944078\n",
            " 0.23796277 0.23650475 0.23506242 0.23363182 0.23220988 0.23079458\n",
            " 0.22938517 0.22798245 0.22658792 0.22520387]\n",
            "26 day output: [0.22383311]\n",
            "27 day input: [0.2931747  0.24132749 0.20423294 0.18690044 0.16425798 0.23045711\n",
            " 0.20934252 0.22870382 0.23964934 0.23869756 0.2189856  0.22577332\n",
            " 0.21620539 0.23268629 0.24485911 0.25430182 0.25658109 0.25873513\n",
            " 0.26141515 0.26464621 0.26670006 0.24673763 0.23055729 0.22960551\n",
            " 0.2239449  0.22705072 0.2296556  0.26036318 0.26572323 0.26422041\n",
            " 0.26201628 0.26154039 0.25532874 0.25051972 0.23857232 0.23674389\n",
            " 0.22149029 0.23386349 0.23438948 0.23321227 0.2354665  0.23759549\n",
            " 0.24152786 0.24040075 0.23491547 0.24315592 0.23696932 0.24002505\n",
            " 0.23028178 0.23133375 0.22444584 0.22938009 0.22241703 0.22477145\n",
            " 0.2358422  0.23709455 0.23408892 0.23724483 0.2358422  0.23604258\n",
            " 0.24628679 0.25292423 0.26449593 0.26727614 0.25825924 0.25840952\n",
            " 0.26123982 0.26442079 0.26128992 0.25492799 0.25615529 0.25878522\n",
            " 0.25843456 0.26134001 0.25685248 0.25724486 0.25665462 0.25568372\n",
            " 0.25452107 0.25321802 0.25180289 0.25030515 0.24875431 0.24717693\n",
            " 0.24559431 0.24402198 0.24246974 0.24094246 0.23944078 0.23796277\n",
            " 0.23650475 0.23506242 0.23363182 0.23220988 0.23079458 0.22938517\n",
            " 0.22798245 0.22658792 0.22520387 0.22383311]\n",
            "27 day output: [0.22247839]\n",
            "28 day input: [0.24132749 0.20423294 0.18690044 0.16425798 0.23045711 0.20934252\n",
            " 0.22870382 0.23964934 0.23869756 0.2189856  0.22577332 0.21620539\n",
            " 0.23268629 0.24485911 0.25430182 0.25658109 0.25873513 0.26141515\n",
            " 0.26464621 0.26670006 0.24673763 0.23055729 0.22960551 0.2239449\n",
            " 0.22705072 0.2296556  0.26036318 0.26572323 0.26422041 0.26201628\n",
            " 0.26154039 0.25532874 0.25051972 0.23857232 0.23674389 0.22149029\n",
            " 0.23386349 0.23438948 0.23321227 0.2354665  0.23759549 0.24152786\n",
            " 0.24040075 0.23491547 0.24315592 0.23696932 0.24002505 0.23028178\n",
            " 0.23133375 0.22444584 0.22938009 0.22241703 0.22477145 0.2358422\n",
            " 0.23709455 0.23408892 0.23724483 0.2358422  0.23604258 0.24628679\n",
            " 0.25292423 0.26449593 0.26727614 0.25825924 0.25840952 0.26123982\n",
            " 0.26442079 0.26128992 0.25492799 0.25615529 0.25878522 0.25843456\n",
            " 0.26134001 0.25685248 0.25724486 0.25665462 0.25568372 0.25452107\n",
            " 0.25321802 0.25180289 0.25030515 0.24875431 0.24717693 0.24559431\n",
            " 0.24402198 0.24246974 0.24094246 0.23944078 0.23796277 0.23650475\n",
            " 0.23506242 0.23363182 0.23220988 0.23079458 0.22938517 0.22798245\n",
            " 0.22658792 0.22520387 0.22383311 0.22247839]\n",
            "28 day output: [0.2211426]\n",
            "29 day input: [0.20423294 0.18690044 0.16425798 0.23045711 0.20934252 0.22870382\n",
            " 0.23964934 0.23869756 0.2189856  0.22577332 0.21620539 0.23268629\n",
            " 0.24485911 0.25430182 0.25658109 0.25873513 0.26141515 0.26464621\n",
            " 0.26670006 0.24673763 0.23055729 0.22960551 0.2239449  0.22705072\n",
            " 0.2296556  0.26036318 0.26572323 0.26422041 0.26201628 0.26154039\n",
            " 0.25532874 0.25051972 0.23857232 0.23674389 0.22149029 0.23386349\n",
            " 0.23438948 0.23321227 0.2354665  0.23759549 0.24152786 0.24040075\n",
            " 0.23491547 0.24315592 0.23696932 0.24002505 0.23028178 0.23133375\n",
            " 0.22444584 0.22938009 0.22241703 0.22477145 0.2358422  0.23709455\n",
            " 0.23408892 0.23724483 0.2358422  0.23604258 0.24628679 0.25292423\n",
            " 0.26449593 0.26727614 0.25825924 0.25840952 0.26123982 0.26442079\n",
            " 0.26128992 0.25492799 0.25615529 0.25878522 0.25843456 0.26134001\n",
            " 0.25685248 0.25724486 0.25665462 0.25568372 0.25452107 0.25321802\n",
            " 0.25180289 0.25030515 0.24875431 0.24717693 0.24559431 0.24402198\n",
            " 0.24246974 0.24094246 0.23944078 0.23796277 0.23650475 0.23506242\n",
            " 0.23363182 0.23220988 0.23079458 0.22938517 0.22798245 0.22658792\n",
            " 0.22520387 0.22383311 0.22247839 0.2211426 ]\n",
            "29 day output: [0.21982782]\n",
            "30 day input: [0.18690044 0.16425798 0.23045711 0.20934252 0.22870382 0.23964934\n",
            " 0.23869756 0.2189856  0.22577332 0.21620539 0.23268629 0.24485911\n",
            " 0.25430182 0.25658109 0.25873513 0.26141515 0.26464621 0.26670006\n",
            " 0.24673763 0.23055729 0.22960551 0.2239449  0.22705072 0.2296556\n",
            " 0.26036318 0.26572323 0.26422041 0.26201628 0.26154039 0.25532874\n",
            " 0.25051972 0.23857232 0.23674389 0.22149029 0.23386349 0.23438948\n",
            " 0.23321227 0.2354665  0.23759549 0.24152786 0.24040075 0.23491547\n",
            " 0.24315592 0.23696932 0.24002505 0.23028178 0.23133375 0.22444584\n",
            " 0.22938009 0.22241703 0.22477145 0.2358422  0.23709455 0.23408892\n",
            " 0.23724483 0.2358422  0.23604258 0.24628679 0.25292423 0.26449593\n",
            " 0.26727614 0.25825924 0.25840952 0.26123982 0.26442079 0.26128992\n",
            " 0.25492799 0.25615529 0.25878522 0.25843456 0.26134001 0.25685248\n",
            " 0.25724486 0.25665462 0.25568372 0.25452107 0.25321802 0.25180289\n",
            " 0.25030515 0.24875431 0.24717693 0.24559431 0.24402198 0.24246974\n",
            " 0.24094246 0.23944078 0.23796277 0.23650475 0.23506242 0.23363182\n",
            " 0.23220988 0.23079458 0.22938517 0.22798245 0.22658792 0.22520387\n",
            " 0.22383311 0.22247839 0.2211426  0.21982782]\n",
            "30 day output: [0.21853599]\n",
            "\n",
            "30-Day Forecast Output:\n",
            "[0.25685248, 0.25724486, 0.25665462, 0.25568372, 0.25452107, 0.25321802, 0.2518029, 0.25030515, 0.24875431, 0.24717693, 0.24559431, 0.24402198, 0.24246974, 0.24094246, 0.23944078, 0.23796277, 0.23650475, 0.23506242, 0.23363182, 0.23220988, 0.23079458, 0.22938517, 0.22798245, 0.22658792, 0.22520387, 0.22383311, 0.22247839, 0.2211426, 0.21982782, 0.21853599]\n"
          ]
        }
      ]
    },
    {
      "cell_type": "code",
      "source": [
        "day_new=np.arange(1,101)\n",
        "day_pred=np.arange(101,131)"
      ],
      "metadata": {
        "id": "YxH1uGxAm8CF"
      },
      "execution_count": 47,
      "outputs": []
    },
    {
      "cell_type": "code",
      "source": [
        "len(data_scaled)"
      ],
      "metadata": {
        "colab": {
          "base_uri": "https://localhost:8080/"
        },
        "id": "C78uADcFoc6H",
        "outputId": "8a51df48-536e-40ef-816c-61ff30bb0928"
      },
      "execution_count": 48,
      "outputs": [
        {
          "output_type": "execute_result",
          "data": {
            "text/plain": [
              "1254"
            ]
          },
          "metadata": {},
          "execution_count": 48
        }
      ]
    },
    {
      "cell_type": "code",
      "source": [],
      "metadata": {
        "id": "h7m6lh_sohyY"
      },
      "execution_count": null,
      "outputs": []
    }
  ]
}